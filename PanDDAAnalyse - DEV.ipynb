{
 "cells": [
  {
   "cell_type": "code",
   "execution_count": 1,
   "metadata": {},
   "outputs": [],
   "source": [
    "# magics\n",
    "%load_ext autoreload\n",
    "%autoreload 2"
   ]
  },
  {
   "cell_type": "markdown",
   "metadata": {},
   "source": [
    "# Imports"
   ]
  },
  {
   "cell_type": "code",
   "execution_count": 2,
   "metadata": {},
   "outputs": [],
   "source": [
    "# Regular Imports\n",
    "import os, sys, configparser\n",
    "import time\n"
   ]
  },
  {
   "cell_type": "code",
   "execution_count": 3,
   "metadata": {},
   "outputs": [
    {
     "name": "stderr",
     "output_type": "stream",
     "text": [
      "/dls/science/groups/i04-1/conor_dev/ccp4/base/lib/python2.7/site-packages/dask_jobqueue/config.py:12: YAMLLoadWarning: calling yaml.load() without Loader=... is deprecated, as the default Loader is unsafe. Please read https://msg.pyyaml.org/load for full details.\n",
      "  defaults = yaml.load(f)\n"
     ]
    }
   ],
   "source": [
    "# Scientific imports\n",
    "from dask.distributed import Client, LocalCluster\n",
    "from dask_jobqueue import SGECluster\n"
   ]
  },
  {
   "cell_type": "code",
   "execution_count": 4,
   "metadata": {},
   "outputs": [],
   "source": [
    "# Multi Dataset Crystalography imports\n",
    "import multi_dataset_crystalography as mdc # import MultiCrystalDataset\n",
    "from multi_dataset_crystalography.utils import DefaultPanDDADataloader\n"
   ]
  },
  {
   "cell_type": "code",
   "execution_count": 5,
   "metadata": {},
   "outputs": [],
   "source": [
    "# PanDDA imports\n",
    "from pandda_analyse.config import PanDDAConfig\n",
    "from pandda_analyse.event_model import PanDDAEventModel\n",
    "# from pandda_analyse.processor import ProcessModelSeriel\n",
    "from pandda_analyse.event_model_distributed import PanDDAEventModelDistributed, load, fit, evaluate, criticise\n",
    "\n"
   ]
  },
  {
   "cell_type": "markdown",
   "metadata": {},
   "source": [
    "# Args"
   ]
  },
  {
   "cell_type": "code",
   "execution_count": 6,
   "metadata": {},
   "outputs": [],
   "source": [
    "# Arguments\n",
    "arguments = None\n",
    "# Config\n",
    "config_path = \"/dls/science/groups/i04-1/conor_dev/pandda/lib-python/pandda/pandda_analyse/pandda_analyse/analyse_config.ini\"\n",
    "config = configparser.ConfigParser()\n"
   ]
  },
  {
   "cell_type": "markdown",
   "metadata": {},
   "source": [
    "# Config"
   ]
  },
  {
   "cell_type": "code",
   "execution_count": 7,
   "metadata": {},
   "outputs": [
    {
     "data": {
      "text/plain": [
       "['/dls/science/groups/i04-1/conor_dev/pandda/lib-python/pandda/pandda_analyse/pandda_analyse/analyse_config.ini']"
      ]
     },
     "execution_count": 7,
     "metadata": {},
     "output_type": "execute_result"
    }
   ],
   "source": [
    "config.read(config_path)"
   ]
  },
  {
   "cell_type": "code",
   "execution_count": 8,
   "metadata": {},
   "outputs": [],
   "source": [
    "pandda_config = PanDDAConfig(config)  # Maps options to code abstractions"
   ]
  },
  {
   "cell_type": "markdown",
   "metadata": {},
   "source": [
    "# Dataset"
   ]
  },
  {
   "cell_type": "code",
   "execution_count": 9,
   "metadata": {},
   "outputs": [],
   "source": [
    "# Get Dataset\n",
    "pandda_dataset = mdc.dataset.dataset.MultiCrystalDataset(dataloader=pandda_config.dataloader,\n",
    "                                         sample_loader=pandda_config.sample_loader\n",
    "                                        )"
   ]
  },
  {
   "cell_type": "markdown",
   "metadata": {},
   "source": [
    "# Get reference Model"
   ]
  },
  {
   "cell_type": "code",
   "execution_count": 10,
   "metadata": {},
   "outputs": [],
   "source": [
    "# Get reference model\n",
    "reference = pandda_config.get_reference(pandda_dataset.datasets)\n",
    "pandda_dataset.sample_loader.reference = reference"
   ]
  },
  {
   "cell_type": "markdown",
   "metadata": {},
   "source": [
    "# Apply transforms to dataset"
   ]
  },
  {
   "cell_type": "code",
   "execution_count": 11,
   "metadata": {},
   "outputs": [
    {
     "name": "stdout",
     "output_type": "stream",
     "text": [
      "###### PanddaDataChecker ######\n",
      "# # Rejected datasets # #\n",
      "Datasets rejected: \n",
      "PDK2-x0279: rejected - rmsd to reference\n",
      "PDK2-x0251: rejected - rmsd to reference\n",
      "PDK2-x0107: rejected - rmsd to reference\n",
      "PDK2-x0238: rejected - rmsd to reference\n",
      "PDK2-x0878: rejected - rmsd to reference\n",
      "\n"
     ]
    }
   ],
   "source": [
    "# Apply dataset transforms\n",
    "if \"data_check\" in pandda_config.dataset_transforms:\n",
    "    transform = pandda_config.dataset_transforms[\"data_check\"]\n",
    "    dataset = transform(pandda_dataset, reference)\n",
    "    print(\"###### {} ######\".format(transform.name))\n",
    "    for block, record in transform.log().items():\n",
    "        print(\"# # {} # #\".format(block))\n",
    "        print(record)"
   ]
  },
  {
   "cell_type": "code",
   "execution_count": 12,
   "metadata": {},
   "outputs": [
    {
     "name": "stderr",
     "output_type": "stream",
     "text": [
      "/dls/science/groups/i04-1/conor_dev/ccp4/base/lib/python2.7/site-packages/numpy/lib/function_base.py:3826: RuntimeWarning: Invalid value encountered in percentile\n",
      "  interpolation=interpolation)\n"
     ]
    },
    {
     "name": "stdout",
     "output_type": "stream",
     "text": [
      "###### PanddaDiffractionScaler ######\n",
      "# # Rejected datasets # #\n",
      "Datasets rejected: \n",
      "PDK2-x0641: rejected - scaling failed\n",
      "PDK2-x0318: rejected - scaling failed\n",
      "PDK2-x0317: rejected - scaling failed\n",
      "\n"
     ]
    }
   ],
   "source": [
    "if \"scale_diffraction\" in pandda_config.dataset_transforms:\n",
    "    transform = pandda_config.dataset_transforms[\"scale_diffraction\"]\n",
    "    dataset = transform(dataset, reference)\n",
    "    print(\"###### {} ######\".format(transform.name))\n",
    "    for block, record in transform.log().items():\n",
    "        print(\"# # {} # #\".format(block))\n",
    "        print(record)"
   ]
  },
  {
   "cell_type": "code",
   "execution_count": 13,
   "metadata": {},
   "outputs": [
    {
     "name": "stdout",
     "output_type": "stream",
     "text": [
      "###### PanddaDatasetFilterer ######\n",
      "# # Rejected datasets # #\n",
      "Datasets rejected: \n",
      "PDK2-x0281: rejected - non-identical structures\n",
      "PDK2-x0365: rejected - non-identical structures\n",
      "PDK2-x0658: rejected - non-identical structures\n",
      "PDK2-x0288: rejected - non-identical structures\n",
      "PDK2-x0182: rejected - non-identical structures\n",
      "PDK2-x0347: rejected - non-identical structures\n",
      "PDK2-x0676: rejected - non-identical structures\n",
      "PDK2-x0585: rejected - non-identical structures\n",
      "PDK2-x0248: rejected - non-identical structures\n",
      "PDK2-x0106: rejected - non-identical structures\n",
      "PDK2-x0287: rejected - non-identical structures\n",
      "PDK2-x0229: rejected - non-identical structures\n",
      "PDK2-x0289: rejected - non-identical structures\n",
      "PDK2-x0299: rejected - non-identical structures\n",
      "PDK2-x0310: rejected - non-identical structures\n",
      "PDK2-x0316: rejected - non-identical structures\n",
      "PDK2-x0192: rejected - non-identical structures\n",
      "PDK2-x0050: rejected - non-identical structures\n",
      "PDK2-x0236: rejected - non-identical structures\n",
      "PDK2-x0256: rejected - non-identical structures\n",
      "PDK2-x0859: rejected - non-identical structures\n",
      "PDK2-x0870: rejected - non-identical structures\n",
      "PDK2-x0696: rejected - non-identical structures\n",
      "\n"
     ]
    }
   ],
   "source": [
    "if \"filter_structure\" in pandda_config.dataset_transforms:\n",
    "    transform = pandda_config.dataset_transforms[\"filter_structure\"]\n",
    "    dataset = transform(dataset, reference)\n",
    "    print(\"###### {} ######\".format(transform.name))\n",
    "    for block, record in transform.log().items():\n",
    "        print(\"# # {} # #\".format(block))\n",
    "        print(record)"
   ]
  },
  {
   "cell_type": "code",
   "execution_count": 14,
   "metadata": {},
   "outputs": [
    {
     "name": "stderr",
     "output_type": "stream",
     "text": [
      "/home/zoh22914/.local/lib/python2.7/site-packages/panddas-0.2.12-py2.7.egg/bamboo/stats/__init__.py:11: RuntimeWarning: invalid value encountered in double_scalars\n",
      "  return 0.6745*devs/mdev\n"
     ]
    },
    {
     "name": "stdout",
     "output_type": "stream",
     "text": [
      "###### PanddaDatasetFiltererWilsonRMSD ######\n",
      "# # Rejected datasets # #\n",
      "Datasets rejected: \n",
      "\n",
      "\n"
     ]
    },
    {
     "name": "stderr",
     "output_type": "stream",
     "text": [
      "multi_dataset_crystalography/dataset/transforms.py:338: FutureWarning: get_value is deprecated and will be removed in a future release. Please use .at[] or .iat[] accessors instead\n",
      "  col='scaled_wilson_rmsd_all_z') > self.max_wilson_plot_z_score) or \\\n",
      "multi_dataset_crystalography/dataset/transforms.py:340: FutureWarning: get_value is deprecated and will be removed in a future release. Please use .at[] or .iat[] accessors instead\n",
      "  col='scaled_wilson_rmsd_<4A_z') > self.max_wilson_plot_z_score) or \\\n",
      "multi_dataset_crystalography/dataset/transforms.py:342: FutureWarning: get_value is deprecated and will be removed in a future release. Please use .at[] or .iat[] accessors instead\n",
      "  col='scaled_wilson_rmsd_>4A_z') > self.max_wilson_plot_z_score) or \\\n",
      "multi_dataset_crystalography/dataset/transforms.py:344: FutureWarning: get_value is deprecated and will be removed in a future release. Please use .at[] or .iat[] accessors instead\n",
      "  col='scaled_wilson_ln_rmsd_z') > self.max_wilson_plot_z_score) or \\\n",
      "multi_dataset_crystalography/dataset/transforms.py:346: FutureWarning: get_value is deprecated and will be removed in a future release. Please use .at[] or .iat[] accessors instead\n",
      "  col='scaled_wilson_ln_dev_z') > self.max_wilson_plot_z_score):\n"
     ]
    }
   ],
   "source": [
    "if \"filter_wilson\" in pandda_config.dataset_transforms:\n",
    "    transform = pandda_config.dataset_transforms[\"filter_wilson\"]\n",
    "    dataset = transform(dataset, reference)\n",
    "    print(\"###### {} ######\".format(transform.name))\n",
    "    for block, record in transform.log().items():\n",
    "        print(\"# # {} # #\".format(block))\n",
    "        print(record)"
   ]
  },
  {
   "cell_type": "code",
   "execution_count": 15,
   "metadata": {},
   "outputs": [
    {
     "name": "stderr",
     "output_type": "stream",
     "text": [
      "[Parallel(n_jobs=15)]: Using backend LokyBackend with 15 concurrent workers.\n",
      "[Parallel(n_jobs=15)]: Done   1 tasks      | elapsed:    6.7s\n",
      "[Parallel(n_jobs=15)]: Done   2 tasks      | elapsed:    9.3s\n",
      "[Parallel(n_jobs=15)]: Done   3 tasks      | elapsed:   11.5s\n",
      "[Parallel(n_jobs=15)]: Done   4 tasks      | elapsed:   14.2s\n",
      "[Parallel(n_jobs=15)]: Done   5 tasks      | elapsed:   17.1s\n",
      "[Parallel(n_jobs=15)]: Done   6 tasks      | elapsed:   19.7s\n",
      "[Parallel(n_jobs=15)]: Done   7 tasks      | elapsed:   22.3s\n",
      "[Parallel(n_jobs=15)]: Done   8 tasks      | elapsed:   24.9s\n",
      "[Parallel(n_jobs=15)]: Done   9 tasks      | elapsed:   27.3s\n",
      "[Parallel(n_jobs=15)]: Done  10 tasks      | elapsed:   30.0s\n",
      "[Parallel(n_jobs=15)]: Done  11 tasks      | elapsed:   32.4s\n",
      "[Parallel(n_jobs=15)]: Done  12 tasks      | elapsed:   34.9s\n",
      "[Parallel(n_jobs=15)]: Done  13 tasks      | elapsed:   37.5s\n",
      "[Parallel(n_jobs=15)]: Done  14 tasks      | elapsed:   40.2s\n",
      "[Parallel(n_jobs=15)]: Done  15 tasks      | elapsed:   42.4s\n",
      "[Parallel(n_jobs=15)]: Done  16 tasks      | elapsed:   42.5s\n",
      "[Parallel(n_jobs=15)]: Done  17 tasks      | elapsed:   42.5s\n",
      "[Parallel(n_jobs=15)]: Done  18 tasks      | elapsed:   42.6s\n",
      "[Parallel(n_jobs=15)]: Done  19 tasks      | elapsed:   42.6s\n",
      "[Parallel(n_jobs=15)]: Done  20 tasks      | elapsed:   42.6s\n",
      "[Parallel(n_jobs=15)]: Done  21 tasks      | elapsed:   42.6s\n",
      "[Parallel(n_jobs=15)]: Done  22 tasks      | elapsed:   42.7s\n",
      "[Parallel(n_jobs=15)]: Done  23 tasks      | elapsed:   42.8s\n",
      "[Parallel(n_jobs=15)]: Done  24 tasks      | elapsed:   42.8s\n",
      "[Parallel(n_jobs=15)]: Done  25 tasks      | elapsed:   43.0s\n",
      "[Parallel(n_jobs=15)]: Done  26 tasks      | elapsed:   43.1s\n",
      "[Parallel(n_jobs=15)]: Done  27 tasks      | elapsed:   43.1s\n",
      "[Parallel(n_jobs=15)]: Done  28 tasks      | elapsed:   43.1s\n",
      "[Parallel(n_jobs=15)]: Done  29 tasks      | elapsed:   43.2s\n",
      "[Parallel(n_jobs=15)]: Done  30 tasks      | elapsed:   43.7s\n",
      "[Parallel(n_jobs=15)]: Done  31 tasks      | elapsed:   43.8s\n",
      "[Parallel(n_jobs=15)]: Done  32 tasks      | elapsed:   43.8s\n",
      "[Parallel(n_jobs=15)]: Done  33 tasks      | elapsed:   43.8s\n",
      "[Parallel(n_jobs=15)]: Done  34 tasks      | elapsed:   43.9s\n",
      "[Parallel(n_jobs=15)]: Done  35 tasks      | elapsed:   44.0s\n",
      "[Parallel(n_jobs=15)]: Done  36 tasks      | elapsed:   44.0s\n",
      "[Parallel(n_jobs=15)]: Done  37 tasks      | elapsed:   44.0s\n",
      "[Parallel(n_jobs=15)]: Done  38 tasks      | elapsed:   44.1s\n",
      "[Parallel(n_jobs=15)]: Done  39 tasks      | elapsed:   44.3s\n",
      "[Parallel(n_jobs=15)]: Done  40 tasks      | elapsed:   44.4s\n",
      "[Parallel(n_jobs=15)]: Done  41 tasks      | elapsed:   44.5s\n",
      "[Parallel(n_jobs=15)]: Done  42 tasks      | elapsed:   44.5s\n",
      "[Parallel(n_jobs=15)]: Done  43 tasks      | elapsed:   44.5s\n",
      "[Parallel(n_jobs=15)]: Done  44 tasks      | elapsed:   44.6s\n",
      "[Parallel(n_jobs=15)]: Done  45 tasks      | elapsed:   44.9s\n",
      "[Parallel(n_jobs=15)]: Done  46 tasks      | elapsed:   45.0s\n",
      "[Parallel(n_jobs=15)]: Done  47 tasks      | elapsed:   45.1s\n",
      "[Parallel(n_jobs=15)]: Done  48 tasks      | elapsed:   45.1s\n",
      "[Parallel(n_jobs=15)]: Done  49 tasks      | elapsed:   45.1s\n",
      "[Parallel(n_jobs=15)]: Done  50 tasks      | elapsed:   45.2s\n",
      "[Parallel(n_jobs=15)]: Done  51 tasks      | elapsed:   45.3s\n",
      "[Parallel(n_jobs=15)]: Done  52 tasks      | elapsed:   45.3s\n",
      "[Parallel(n_jobs=15)]: Done  53 tasks      | elapsed:   45.5s\n",
      "[Parallel(n_jobs=15)]: Done  54 tasks      | elapsed:   45.6s\n",
      "[Parallel(n_jobs=15)]: Done  55 tasks      | elapsed:   45.6s\n",
      "[Parallel(n_jobs=15)]: Done  56 tasks      | elapsed:   45.7s\n",
      "[Parallel(n_jobs=15)]: Done  57 tasks      | elapsed:   45.7s\n",
      "[Parallel(n_jobs=15)]: Done  58 tasks      | elapsed:   45.8s\n",
      "[Parallel(n_jobs=15)]: Done  59 tasks      | elapsed:   45.9s\n",
      "[Parallel(n_jobs=15)]: Done  60 tasks      | elapsed:   46.2s\n",
      "[Parallel(n_jobs=15)]: Done  61 tasks      | elapsed:   46.2s\n",
      "[Parallel(n_jobs=15)]: Done  62 tasks      | elapsed:   46.3s\n",
      "[Parallel(n_jobs=15)]: Done  63 tasks      | elapsed:   46.4s\n",
      "[Parallel(n_jobs=15)]: Done  64 tasks      | elapsed:   46.4s\n",
      "[Parallel(n_jobs=15)]: Done  65 tasks      | elapsed:   46.5s\n",
      "[Parallel(n_jobs=15)]: Done  66 tasks      | elapsed:   46.6s\n",
      "[Parallel(n_jobs=15)]: Done  67 tasks      | elapsed:   46.6s\n",
      "[Parallel(n_jobs=15)]: Done  68 tasks      | elapsed:   46.8s\n",
      "[Parallel(n_jobs=15)]: Done  69 tasks      | elapsed:   46.9s\n",
      "[Parallel(n_jobs=15)]: Done  70 tasks      | elapsed:   46.9s\n",
      "[Parallel(n_jobs=15)]: Done  71 tasks      | elapsed:   47.0s\n",
      "[Parallel(n_jobs=15)]: Done  72 tasks      | elapsed:   47.0s\n",
      "[Parallel(n_jobs=15)]: Done  73 tasks      | elapsed:   47.0s\n",
      "[Parallel(n_jobs=15)]: Done  74 tasks      | elapsed:   47.1s\n",
      "[Parallel(n_jobs=15)]: Done  75 tasks      | elapsed:   47.4s\n",
      "[Parallel(n_jobs=15)]: Done  76 tasks      | elapsed:   47.5s\n",
      "[Parallel(n_jobs=15)]: Done  77 tasks      | elapsed:   47.5s\n",
      "[Parallel(n_jobs=15)]: Done  78 tasks      | elapsed:   47.6s\n",
      "[Parallel(n_jobs=15)]: Done  79 tasks      | elapsed:   47.7s\n",
      "[Parallel(n_jobs=15)]: Done  80 tasks      | elapsed:   47.7s\n",
      "[Parallel(n_jobs=15)]: Done  81 tasks      | elapsed:   47.8s\n",
      "[Parallel(n_jobs=15)]: Done  82 tasks      | elapsed:   47.8s\n",
      "[Parallel(n_jobs=15)]: Done  83 tasks      | elapsed:   48.3s\n",
      "[Parallel(n_jobs=15)]: Done  84 tasks      | elapsed:   48.3s\n",
      "[Parallel(n_jobs=15)]: Done  85 tasks      | elapsed:   48.4s\n",
      "[Parallel(n_jobs=15)]: Done  86 tasks      | elapsed:   48.4s\n",
      "[Parallel(n_jobs=15)]: Done  87 tasks      | elapsed:   48.4s\n",
      "[Parallel(n_jobs=15)]: Done  88 tasks      | elapsed:   48.5s\n",
      "[Parallel(n_jobs=15)]: Done  89 tasks      | elapsed:   48.5s\n",
      "[Parallel(n_jobs=15)]: Done  90 tasks      | elapsed:   48.6s\n",
      "[Parallel(n_jobs=15)]: Done  91 tasks      | elapsed:   48.7s\n",
      "[Parallel(n_jobs=15)]: Done  92 tasks      | elapsed:   48.7s\n",
      "[Parallel(n_jobs=15)]: Done  93 tasks      | elapsed:   48.8s\n",
      "[Parallel(n_jobs=15)]: Done  94 tasks      | elapsed:   48.9s\n",
      "[Parallel(n_jobs=15)]: Done  95 tasks      | elapsed:   49.0s\n",
      "[Parallel(n_jobs=15)]: Done  96 tasks      | elapsed:   49.1s\n",
      "[Parallel(n_jobs=15)]: Done  97 tasks      | elapsed:   49.1s\n",
      "[Parallel(n_jobs=15)]: Done  98 tasks      | elapsed:   49.3s\n",
      "[Parallel(n_jobs=15)]: Done  99 tasks      | elapsed:   49.6s\n",
      "[Parallel(n_jobs=15)]: Done 100 tasks      | elapsed:   49.7s\n",
      "[Parallel(n_jobs=15)]: Done 101 tasks      | elapsed:   49.7s\n",
      "[Parallel(n_jobs=15)]: Done 102 tasks      | elapsed:   49.8s\n",
      "[Parallel(n_jobs=15)]: Done 103 tasks      | elapsed:   49.8s\n",
      "[Parallel(n_jobs=15)]: Done 104 tasks      | elapsed:   49.9s\n",
      "[Parallel(n_jobs=15)]: Done 105 tasks      | elapsed:   49.9s\n",
      "[Parallel(n_jobs=15)]: Done 106 tasks      | elapsed:   50.0s\n",
      "[Parallel(n_jobs=15)]: Done 107 tasks      | elapsed:   50.0s\n",
      "[Parallel(n_jobs=15)]: Done 108 tasks      | elapsed:   50.0s\n",
      "[Parallel(n_jobs=15)]: Done 109 tasks      | elapsed:   50.1s\n",
      "[Parallel(n_jobs=15)]: Done 110 tasks      | elapsed:   50.2s\n",
      "[Parallel(n_jobs=15)]: Done 111 tasks      | elapsed:   50.3s\n",
      "[Parallel(n_jobs=15)]: Done 112 tasks      | elapsed:   50.4s\n",
      "[Parallel(n_jobs=15)]: Done 113 tasks      | elapsed:   50.6s\n",
      "[Parallel(n_jobs=15)]: Done 114 tasks      | elapsed:   50.8s\n",
      "[Parallel(n_jobs=15)]: Done 115 tasks      | elapsed:   50.9s\n",
      "[Parallel(n_jobs=15)]: Done 116 tasks      | elapsed:   51.0s\n",
      "[Parallel(n_jobs=15)]: Done 117 tasks      | elapsed:   51.3s\n",
      "[Parallel(n_jobs=15)]: Done 118 tasks      | elapsed:   51.3s\n",
      "[Parallel(n_jobs=15)]: Done 119 tasks      | elapsed:   51.4s\n",
      "[Parallel(n_jobs=15)]: Done 120 tasks      | elapsed:   51.4s\n",
      "[Parallel(n_jobs=15)]: Done 121 tasks      | elapsed:   51.4s\n",
      "[Parallel(n_jobs=15)]: Done 122 tasks      | elapsed:   51.5s\n",
      "[Parallel(n_jobs=15)]: Done 123 tasks      | elapsed:   51.5s\n",
      "[Parallel(n_jobs=15)]: Done 124 tasks      | elapsed:   51.6s\n",
      "[Parallel(n_jobs=15)]: Done 125 tasks      | elapsed:   51.6s\n",
      "[Parallel(n_jobs=15)]: Done 126 tasks      | elapsed:   51.7s\n",
      "[Parallel(n_jobs=15)]: Done 127 tasks      | elapsed:   51.7s\n",
      "[Parallel(n_jobs=15)]: Done 128 tasks      | elapsed:   51.8s\n",
      "[Parallel(n_jobs=15)]: Done 129 tasks      | elapsed:   52.1s\n",
      "[Parallel(n_jobs=15)]: Done 130 tasks      | elapsed:   52.1s\n",
      "[Parallel(n_jobs=15)]: Done 131 tasks      | elapsed:   52.1s\n"
     ]
    },
    {
     "name": "stderr",
     "output_type": "stream",
     "text": [
      "[Parallel(n_jobs=15)]: Done 132 tasks      | elapsed:   52.5s\n",
      "[Parallel(n_jobs=15)]: Done 133 tasks      | elapsed:   52.6s\n",
      "[Parallel(n_jobs=15)]: Done 134 tasks      | elapsed:   52.7s\n",
      "[Parallel(n_jobs=15)]: Done 135 tasks      | elapsed:   52.7s\n",
      "[Parallel(n_jobs=15)]: Done 136 tasks      | elapsed:   52.8s\n",
      "[Parallel(n_jobs=15)]: Done 137 tasks      | elapsed:   52.9s\n",
      "[Parallel(n_jobs=15)]: Done 138 tasks      | elapsed:   52.9s\n",
      "[Parallel(n_jobs=15)]: Done 139 tasks      | elapsed:   52.9s\n",
      "[Parallel(n_jobs=15)]: Done 140 tasks      | elapsed:   53.0s\n",
      "[Parallel(n_jobs=15)]: Done 141 tasks      | elapsed:   53.0s\n",
      "[Parallel(n_jobs=15)]: Done 142 tasks      | elapsed:   53.1s\n",
      "[Parallel(n_jobs=15)]: Done 143 tasks      | elapsed:   53.1s\n",
      "[Parallel(n_jobs=15)]: Done 144 tasks      | elapsed:   53.3s\n",
      "[Parallel(n_jobs=15)]: Done 145 tasks      | elapsed:   53.3s\n",
      "[Parallel(n_jobs=15)]: Done 146 tasks      | elapsed:   53.4s\n",
      "[Parallel(n_jobs=15)]: Done 147 tasks      | elapsed:   53.8s\n",
      "[Parallel(n_jobs=15)]: Done 148 tasks      | elapsed:   53.8s\n",
      "[Parallel(n_jobs=15)]: Done 149 tasks      | elapsed:   53.9s\n",
      "[Parallel(n_jobs=15)]: Done 150 tasks      | elapsed:   53.9s\n",
      "[Parallel(n_jobs=15)]: Done 151 tasks      | elapsed:   54.1s\n",
      "[Parallel(n_jobs=15)]: Done 152 tasks      | elapsed:   54.1s\n",
      "[Parallel(n_jobs=15)]: Done 153 tasks      | elapsed:   54.2s\n",
      "[Parallel(n_jobs=15)]: Done 154 tasks      | elapsed:   54.2s\n",
      "[Parallel(n_jobs=15)]: Done 155 tasks      | elapsed:   54.5s\n",
      "[Parallel(n_jobs=15)]: Done 156 tasks      | elapsed:   54.6s\n",
      "[Parallel(n_jobs=15)]: Done 157 tasks      | elapsed:   54.6s\n",
      "[Parallel(n_jobs=15)]: Done 158 tasks      | elapsed:   54.7s\n",
      "[Parallel(n_jobs=15)]: Done 159 tasks      | elapsed:   54.7s\n",
      "[Parallel(n_jobs=15)]: Done 160 tasks      | elapsed:   54.7s\n",
      "[Parallel(n_jobs=15)]: Done 161 tasks      | elapsed:   54.7s\n",
      "[Parallel(n_jobs=15)]: Done 162 tasks      | elapsed:   55.0s\n",
      "[Parallel(n_jobs=15)]: Done 163 tasks      | elapsed:   55.0s\n",
      "[Parallel(n_jobs=15)]: Done 164 tasks      | elapsed:   55.1s\n",
      "[Parallel(n_jobs=15)]: Done 165 tasks      | elapsed:   55.2s\n",
      "[Parallel(n_jobs=15)]: Done 166 tasks      | elapsed:   55.3s\n",
      "[Parallel(n_jobs=15)]: Done 167 tasks      | elapsed:   55.4s\n",
      "[Parallel(n_jobs=15)]: Done 168 tasks      | elapsed:   55.4s\n",
      "[Parallel(n_jobs=15)]: Done 169 tasks      | elapsed:   55.5s\n",
      "[Parallel(n_jobs=15)]: Done 170 tasks      | elapsed:   55.8s\n",
      "[Parallel(n_jobs=15)]: Done 171 tasks      | elapsed:   55.9s\n",
      "[Parallel(n_jobs=15)]: Done 172 tasks      | elapsed:   55.9s\n",
      "[Parallel(n_jobs=15)]: Done 173 tasks      | elapsed:   56.0s\n",
      "[Parallel(n_jobs=15)]: Done 174 tasks      | elapsed:   56.0s\n",
      "[Parallel(n_jobs=15)]: Done 175 tasks      | elapsed:   56.0s\n",
      "[Parallel(n_jobs=15)]: Done 176 tasks      | elapsed:   56.1s\n",
      "[Parallel(n_jobs=15)]: Done 177 tasks      | elapsed:   56.2s\n",
      "[Parallel(n_jobs=15)]: Done 178 tasks      | elapsed:   56.3s\n",
      "[Parallel(n_jobs=15)]: Done 179 tasks      | elapsed:   56.3s\n",
      "[Parallel(n_jobs=15)]: Done 180 tasks      | elapsed:   56.4s\n",
      "[Parallel(n_jobs=15)]: Done 181 tasks      | elapsed:   56.5s\n",
      "[Parallel(n_jobs=15)]: Done 182 tasks      | elapsed:   56.6s\n",
      "[Parallel(n_jobs=15)]: Done 183 tasks      | elapsed:   56.7s\n",
      "[Parallel(n_jobs=15)]: Done 184 tasks      | elapsed:   56.7s\n",
      "[Parallel(n_jobs=15)]: Done 185 tasks      | elapsed:   57.1s\n",
      "[Parallel(n_jobs=15)]: Done 186 tasks      | elapsed:   57.1s\n",
      "[Parallel(n_jobs=15)]: Done 187 tasks      | elapsed:   57.2s\n",
      "[Parallel(n_jobs=15)]: Done 188 tasks      | elapsed:   57.2s\n",
      "[Parallel(n_jobs=15)]: Done 189 tasks      | elapsed:   57.3s\n",
      "[Parallel(n_jobs=15)]: Done 190 tasks      | elapsed:   57.3s\n",
      "[Parallel(n_jobs=15)]: Done 191 tasks      | elapsed:   57.4s\n",
      "[Parallel(n_jobs=15)]: Done 192 tasks      | elapsed:   57.4s\n",
      "[Parallel(n_jobs=15)]: Done 193 tasks      | elapsed:   57.5s\n",
      "[Parallel(n_jobs=15)]: Done 194 tasks      | elapsed:   57.6s\n",
      "[Parallel(n_jobs=15)]: Done 195 tasks      | elapsed:   57.6s\n",
      "[Parallel(n_jobs=15)]: Done 196 tasks      | elapsed:   57.7s\n",
      "[Parallel(n_jobs=15)]: Done 197 tasks      | elapsed:   58.2s\n",
      "[Parallel(n_jobs=15)]: Done 198 tasks      | elapsed:   58.3s\n",
      "[Parallel(n_jobs=15)]: Done 199 tasks      | elapsed:   58.3s\n",
      "[Parallel(n_jobs=15)]: Done 200 tasks      | elapsed:   58.4s\n",
      "[Parallel(n_jobs=15)]: Done 201 tasks      | elapsed:   58.4s\n",
      "[Parallel(n_jobs=15)]: Done 202 tasks      | elapsed:   58.4s\n",
      "[Parallel(n_jobs=15)]: Done 203 tasks      | elapsed:   58.5s\n",
      "[Parallel(n_jobs=15)]: Done 204 tasks      | elapsed:   58.5s\n",
      "[Parallel(n_jobs=15)]: Done 205 tasks      | elapsed:   58.6s\n",
      "[Parallel(n_jobs=15)]: Done 206 tasks      | elapsed:   58.7s\n",
      "[Parallel(n_jobs=15)]: Done 207 tasks      | elapsed:   58.7s\n",
      "[Parallel(n_jobs=15)]: Done 208 tasks      | elapsed:   58.8s\n",
      "[Parallel(n_jobs=15)]: Done 209 tasks      | elapsed:   58.8s\n",
      "[Parallel(n_jobs=15)]: Done 210 tasks      | elapsed:   58.9s\n",
      "[Parallel(n_jobs=15)]: Done 211 tasks      | elapsed:   59.0s\n",
      "[Parallel(n_jobs=15)]: Done 212 tasks      | elapsed:   59.1s\n",
      "[Parallel(n_jobs=15)]: Done 213 tasks      | elapsed:   59.5s\n",
      "[Parallel(n_jobs=15)]: Done 214 tasks      | elapsed:   59.6s\n",
      "[Parallel(n_jobs=15)]: Done 215 tasks      | elapsed:   59.6s\n",
      "[Parallel(n_jobs=15)]: Done 216 tasks      | elapsed:   59.7s\n",
      "[Parallel(n_jobs=15)]: Done 217 tasks      | elapsed:   59.7s\n",
      "[Parallel(n_jobs=15)]: Done 218 tasks      | elapsed:   59.8s\n",
      "[Parallel(n_jobs=15)]: Done 219 tasks      | elapsed:   59.9s\n",
      "[Parallel(n_jobs=15)]: Done 220 tasks      | elapsed:   59.9s\n",
      "[Parallel(n_jobs=15)]: Done 221 tasks      | elapsed:   59.9s\n",
      "[Parallel(n_jobs=15)]: Done 222 tasks      | elapsed:   60.0s\n",
      "[Parallel(n_jobs=15)]: Done 223 tasks      | elapsed:  1.0min\n",
      "[Parallel(n_jobs=15)]: Done 224 tasks      | elapsed:  1.0min\n",
      "[Parallel(n_jobs=15)]: Done 225 tasks      | elapsed:  1.0min\n",
      "[Parallel(n_jobs=15)]: Done 226 tasks      | elapsed:  1.0min\n",
      "[Parallel(n_jobs=15)]: Done 227 tasks      | elapsed:  1.0min\n",
      "[Parallel(n_jobs=15)]: Done 228 tasks      | elapsed:  1.0min\n",
      "[Parallel(n_jobs=15)]: Done 229 tasks      | elapsed:  1.0min\n",
      "[Parallel(n_jobs=15)]: Done 230 tasks      | elapsed:  1.0min\n",
      "[Parallel(n_jobs=15)]: Done 231 tasks      | elapsed:  1.0min\n",
      "[Parallel(n_jobs=15)]: Done 232 tasks      | elapsed:  1.0min\n",
      "[Parallel(n_jobs=15)]: Done 233 tasks      | elapsed:  1.0min\n",
      "[Parallel(n_jobs=15)]: Done 234 tasks      | elapsed:  1.0min\n",
      "[Parallel(n_jobs=15)]: Done 235 tasks      | elapsed:  1.0min\n",
      "[Parallel(n_jobs=15)]: Done 236 tasks      | elapsed:  1.0min\n",
      "[Parallel(n_jobs=15)]: Done 237 tasks      | elapsed:  1.0min\n",
      "[Parallel(n_jobs=15)]: Done 238 tasks      | elapsed:  1.0min\n",
      "[Parallel(n_jobs=15)]: Done 239 tasks      | elapsed:  1.0min\n",
      "[Parallel(n_jobs=15)]: Done 240 tasks      | elapsed:  1.0min\n",
      "[Parallel(n_jobs=15)]: Done 241 tasks      | elapsed:  1.0min\n",
      "[Parallel(n_jobs=15)]: Done 242 tasks      | elapsed:  1.0min\n",
      "[Parallel(n_jobs=15)]: Done 243 tasks      | elapsed:  1.0min\n",
      "[Parallel(n_jobs=15)]: Done 244 tasks      | elapsed:  1.0min\n",
      "[Parallel(n_jobs=15)]: Done 245 tasks      | elapsed:  1.0min\n",
      "[Parallel(n_jobs=15)]: Done 246 tasks      | elapsed:  1.0min\n",
      "[Parallel(n_jobs=15)]: Done 247 tasks      | elapsed:  1.0min\n",
      "[Parallel(n_jobs=15)]: Done 248 tasks      | elapsed:  1.0min\n",
      "[Parallel(n_jobs=15)]: Done 249 tasks      | elapsed:  1.0min\n",
      "[Parallel(n_jobs=15)]: Done 250 tasks      | elapsed:  1.0min\n",
      "[Parallel(n_jobs=15)]: Done 251 tasks      | elapsed:  1.0min\n",
      "[Parallel(n_jobs=15)]: Done 252 tasks      | elapsed:  1.0min\n",
      "[Parallel(n_jobs=15)]: Done 253 tasks      | elapsed:  1.0min\n",
      "[Parallel(n_jobs=15)]: Done 254 tasks      | elapsed:  1.0min\n",
      "[Parallel(n_jobs=15)]: Done 255 tasks      | elapsed:  1.1min\n",
      "[Parallel(n_jobs=15)]: Done 256 tasks      | elapsed:  1.1min\n",
      "[Parallel(n_jobs=15)]: Done 257 tasks      | elapsed:  1.1min\n",
      "[Parallel(n_jobs=15)]: Done 258 tasks      | elapsed:  1.1min\n",
      "[Parallel(n_jobs=15)]: Done 259 tasks      | elapsed:  1.1min\n",
      "[Parallel(n_jobs=15)]: Done 260 tasks      | elapsed:  1.1min\n",
      "[Parallel(n_jobs=15)]: Done 261 tasks      | elapsed:  1.1min\n",
      "[Parallel(n_jobs=15)]: Done 262 tasks      | elapsed:  1.1min\n",
      "[Parallel(n_jobs=15)]: Done 263 tasks      | elapsed:  1.1min\n",
      "[Parallel(n_jobs=15)]: Done 264 tasks      | elapsed:  1.1min\n",
      "[Parallel(n_jobs=15)]: Done 265 tasks      | elapsed:  1.1min\n",
      "[Parallel(n_jobs=15)]: Done 266 tasks      | elapsed:  1.1min\n",
      "[Parallel(n_jobs=15)]: Done 267 tasks      | elapsed:  1.1min\n"
     ]
    },
    {
     "name": "stderr",
     "output_type": "stream",
     "text": [
      "[Parallel(n_jobs=15)]: Done 268 tasks      | elapsed:  1.1min\n",
      "[Parallel(n_jobs=15)]: Done 269 tasks      | elapsed:  1.1min\n",
      "[Parallel(n_jobs=15)]: Done 270 tasks      | elapsed:  1.1min\n",
      "[Parallel(n_jobs=15)]: Done 271 tasks      | elapsed:  1.1min\n",
      "[Parallel(n_jobs=15)]: Done 272 tasks      | elapsed:  1.1min\n",
      "[Parallel(n_jobs=15)]: Done 273 tasks      | elapsed:  1.1min\n",
      "[Parallel(n_jobs=15)]: Done 274 tasks      | elapsed:  1.1min\n",
      "[Parallel(n_jobs=15)]: Done 275 tasks      | elapsed:  1.1min\n",
      "[Parallel(n_jobs=15)]: Done 276 tasks      | elapsed:  1.1min\n",
      "[Parallel(n_jobs=15)]: Done 277 tasks      | elapsed:  1.1min\n",
      "[Parallel(n_jobs=15)]: Done 278 tasks      | elapsed:  1.1min\n",
      "[Parallel(n_jobs=15)]: Done 279 tasks      | elapsed:  1.1min\n",
      "[Parallel(n_jobs=15)]: Done 280 tasks      | elapsed:  1.1min\n",
      "[Parallel(n_jobs=15)]: Done 281 tasks      | elapsed:  1.1min\n",
      "[Parallel(n_jobs=15)]: Done 282 tasks      | elapsed:  1.1min\n",
      "[Parallel(n_jobs=15)]: Done 283 tasks      | elapsed:  1.1min\n",
      "[Parallel(n_jobs=15)]: Done 284 tasks      | elapsed:  1.1min\n",
      "[Parallel(n_jobs=15)]: Done 285 tasks      | elapsed:  1.1min\n",
      "[Parallel(n_jobs=15)]: Done 286 tasks      | elapsed:  1.1min\n",
      "[Parallel(n_jobs=15)]: Done 287 tasks      | elapsed:  1.1min\n",
      "[Parallel(n_jobs=15)]: Done 288 tasks      | elapsed:  1.1min\n",
      "[Parallel(n_jobs=15)]: Done 289 tasks      | elapsed:  1.1min\n",
      "[Parallel(n_jobs=15)]: Done 290 tasks      | elapsed:  1.1min\n",
      "[Parallel(n_jobs=15)]: Done 291 tasks      | elapsed:  1.1min\n",
      "[Parallel(n_jobs=15)]: Done 292 tasks      | elapsed:  1.1min\n",
      "[Parallel(n_jobs=15)]: Done 293 tasks      | elapsed:  1.1min\n",
      "[Parallel(n_jobs=15)]: Done 294 tasks      | elapsed:  1.1min\n",
      "[Parallel(n_jobs=15)]: Done 295 tasks      | elapsed:  1.1min\n",
      "[Parallel(n_jobs=15)]: Done 296 tasks      | elapsed:  1.1min\n",
      "[Parallel(n_jobs=15)]: Done 297 tasks      | elapsed:  1.1min\n",
      "[Parallel(n_jobs=15)]: Done 298 tasks      | elapsed:  1.1min\n",
      "[Parallel(n_jobs=15)]: Done 299 tasks      | elapsed:  1.1min\n",
      "[Parallel(n_jobs=15)]: Done 300 tasks      | elapsed:  1.1min\n",
      "[Parallel(n_jobs=15)]: Done 301 tasks      | elapsed:  1.1min\n",
      "[Parallel(n_jobs=15)]: Done 302 tasks      | elapsed:  1.1min\n",
      "[Parallel(n_jobs=15)]: Done 303 tasks      | elapsed:  1.1min\n",
      "[Parallel(n_jobs=15)]: Done 304 tasks      | elapsed:  1.1min\n",
      "[Parallel(n_jobs=15)]: Done 305 tasks      | elapsed:  1.1min\n",
      "[Parallel(n_jobs=15)]: Done 306 tasks      | elapsed:  1.1min\n",
      "[Parallel(n_jobs=15)]: Done 307 tasks      | elapsed:  1.1min\n",
      "[Parallel(n_jobs=15)]: Done 308 tasks      | elapsed:  1.1min\n",
      "[Parallel(n_jobs=15)]: Done 309 tasks      | elapsed:  1.1min\n",
      "[Parallel(n_jobs=15)]: Done 310 tasks      | elapsed:  1.1min\n",
      "[Parallel(n_jobs=15)]: Done 311 tasks      | elapsed:  1.1min\n",
      "[Parallel(n_jobs=15)]: Done 312 tasks      | elapsed:  1.1min\n",
      "[Parallel(n_jobs=15)]: Done 313 tasks      | elapsed:  1.1min\n",
      "[Parallel(n_jobs=15)]: Done 314 tasks      | elapsed:  1.1min\n",
      "[Parallel(n_jobs=15)]: Done 315 tasks      | elapsed:  1.1min\n",
      "[Parallel(n_jobs=15)]: Done 316 tasks      | elapsed:  1.1min\n",
      "[Parallel(n_jobs=15)]: Done 317 tasks      | elapsed:  1.1min\n",
      "[Parallel(n_jobs=15)]: Done 318 tasks      | elapsed:  1.1min\n",
      "[Parallel(n_jobs=15)]: Done 319 tasks      | elapsed:  1.1min\n",
      "[Parallel(n_jobs=15)]: Done 320 tasks      | elapsed:  1.1min\n",
      "[Parallel(n_jobs=15)]: Done 321 tasks      | elapsed:  1.1min\n",
      "[Parallel(n_jobs=15)]: Done 322 tasks      | elapsed:  1.2min\n",
      "[Parallel(n_jobs=15)]: Done 323 tasks      | elapsed:  1.2min\n",
      "[Parallel(n_jobs=15)]: Done 324 tasks      | elapsed:  1.2min\n",
      "[Parallel(n_jobs=15)]: Done 325 tasks      | elapsed:  1.2min\n",
      "[Parallel(n_jobs=15)]: Done 326 tasks      | elapsed:  1.2min\n",
      "[Parallel(n_jobs=15)]: Done 327 tasks      | elapsed:  1.2min\n",
      "[Parallel(n_jobs=15)]: Done 328 tasks      | elapsed:  1.2min\n",
      "[Parallel(n_jobs=15)]: Done 329 tasks      | elapsed:  1.2min\n",
      "[Parallel(n_jobs=15)]: Done 330 tasks      | elapsed:  1.2min\n",
      "[Parallel(n_jobs=15)]: Done 331 tasks      | elapsed:  1.2min\n",
      "[Parallel(n_jobs=15)]: Done 332 tasks      | elapsed:  1.2min\n",
      "[Parallel(n_jobs=15)]: Done 333 tasks      | elapsed:  1.2min\n",
      "[Parallel(n_jobs=15)]: Done 334 tasks      | elapsed:  1.2min\n",
      "[Parallel(n_jobs=15)]: Done 335 tasks      | elapsed:  1.2min\n",
      "[Parallel(n_jobs=15)]: Done 336 tasks      | elapsed:  1.2min\n",
      "[Parallel(n_jobs=15)]: Done 337 tasks      | elapsed:  1.2min\n",
      "[Parallel(n_jobs=15)]: Done 338 tasks      | elapsed:  1.2min\n",
      "[Parallel(n_jobs=15)]: Done 339 tasks      | elapsed:  1.2min\n",
      "[Parallel(n_jobs=15)]: Done 340 tasks      | elapsed:  1.2min\n",
      "[Parallel(n_jobs=15)]: Done 341 tasks      | elapsed:  1.2min\n",
      "[Parallel(n_jobs=15)]: Done 342 tasks      | elapsed:  1.2min\n",
      "[Parallel(n_jobs=15)]: Done 343 tasks      | elapsed:  1.2min\n",
      "[Parallel(n_jobs=15)]: Done 344 tasks      | elapsed:  1.2min\n",
      "[Parallel(n_jobs=15)]: Done 345 tasks      | elapsed:  1.2min\n",
      "[Parallel(n_jobs=15)]: Done 346 tasks      | elapsed:  1.2min\n",
      "[Parallel(n_jobs=15)]: Done 347 tasks      | elapsed:  1.2min\n",
      "[Parallel(n_jobs=15)]: Done 348 tasks      | elapsed:  1.2min\n",
      "[Parallel(n_jobs=15)]: Done 349 tasks      | elapsed:  1.2min\n",
      "[Parallel(n_jobs=15)]: Done 350 tasks      | elapsed:  1.2min\n",
      "[Parallel(n_jobs=15)]: Done 351 tasks      | elapsed:  1.2min\n",
      "[Parallel(n_jobs=15)]: Done 352 tasks      | elapsed:  1.2min\n",
      "[Parallel(n_jobs=15)]: Done 353 tasks      | elapsed:  1.2min\n",
      "[Parallel(n_jobs=15)]: Done 354 tasks      | elapsed:  1.2min\n",
      "[Parallel(n_jobs=15)]: Done 355 tasks      | elapsed:  1.2min\n",
      "[Parallel(n_jobs=15)]: Done 356 tasks      | elapsed:  1.2min\n",
      "[Parallel(n_jobs=15)]: Done 357 tasks      | elapsed:  1.2min\n",
      "[Parallel(n_jobs=15)]: Done 358 tasks      | elapsed:  1.2min\n",
      "[Parallel(n_jobs=15)]: Done 359 tasks      | elapsed:  1.2min\n",
      "[Parallel(n_jobs=15)]: Done 360 tasks      | elapsed:  1.2min\n",
      "[Parallel(n_jobs=15)]: Done 361 tasks      | elapsed:  1.2min\n",
      "[Parallel(n_jobs=15)]: Done 362 tasks      | elapsed:  1.2min\n",
      "[Parallel(n_jobs=15)]: Done 363 tasks      | elapsed:  1.2min\n",
      "[Parallel(n_jobs=15)]: Done 364 tasks      | elapsed:  1.2min\n",
      "[Parallel(n_jobs=15)]: Done 365 tasks      | elapsed:  1.2min\n",
      "[Parallel(n_jobs=15)]: Done 366 tasks      | elapsed:  1.2min\n",
      "[Parallel(n_jobs=15)]: Done 367 tasks      | elapsed:  1.2min\n",
      "[Parallel(n_jobs=15)]: Done 368 tasks      | elapsed:  1.2min\n",
      "[Parallel(n_jobs=15)]: Done 369 tasks      | elapsed:  1.2min\n",
      "[Parallel(n_jobs=15)]: Done 370 tasks      | elapsed:  1.2min\n",
      "[Parallel(n_jobs=15)]: Done 371 tasks      | elapsed:  1.2min\n",
      "[Parallel(n_jobs=15)]: Done 372 tasks      | elapsed:  1.2min\n",
      "[Parallel(n_jobs=15)]: Done 373 tasks      | elapsed:  1.2min\n",
      "[Parallel(n_jobs=15)]: Done 374 tasks      | elapsed:  1.2min\n",
      "[Parallel(n_jobs=15)]: Done 375 tasks      | elapsed:  1.2min\n",
      "[Parallel(n_jobs=15)]: Done 376 tasks      | elapsed:  1.2min\n",
      "[Parallel(n_jobs=15)]: Done 377 tasks      | elapsed:  1.2min\n",
      "[Parallel(n_jobs=15)]: Done 378 tasks      | elapsed:  1.2min\n",
      "[Parallel(n_jobs=15)]: Done 379 tasks      | elapsed:  1.2min\n",
      "[Parallel(n_jobs=15)]: Done 380 tasks      | elapsed:  1.2min\n",
      "[Parallel(n_jobs=15)]: Done 381 tasks      | elapsed:  1.2min\n",
      "[Parallel(n_jobs=15)]: Done 382 tasks      | elapsed:  1.2min\n",
      "[Parallel(n_jobs=15)]: Done 383 tasks      | elapsed:  1.2min\n",
      "[Parallel(n_jobs=15)]: Done 384 tasks      | elapsed:  1.2min\n",
      "[Parallel(n_jobs=15)]: Done 385 tasks      | elapsed:  1.2min\n",
      "[Parallel(n_jobs=15)]: Done 386 tasks      | elapsed:  1.2min\n",
      "[Parallel(n_jobs=15)]: Done 387 tasks      | elapsed:  1.2min\n",
      "[Parallel(n_jobs=15)]: Done 388 tasks      | elapsed:  1.2min\n",
      "[Parallel(n_jobs=15)]: Done 389 tasks      | elapsed:  1.3min\n",
      "[Parallel(n_jobs=15)]: Done 390 tasks      | elapsed:  1.3min\n",
      "[Parallel(n_jobs=15)]: Done 391 tasks      | elapsed:  1.3min\n",
      "[Parallel(n_jobs=15)]: Done 392 tasks      | elapsed:  1.3min\n",
      "[Parallel(n_jobs=15)]: Done 393 tasks      | elapsed:  1.3min\n",
      "[Parallel(n_jobs=15)]: Done 394 tasks      | elapsed:  1.3min\n",
      "[Parallel(n_jobs=15)]: Done 395 tasks      | elapsed:  1.3min\n",
      "[Parallel(n_jobs=15)]: Done 396 tasks      | elapsed:  1.3min\n",
      "[Parallel(n_jobs=15)]: Done 397 tasks      | elapsed:  1.3min\n",
      "[Parallel(n_jobs=15)]: Done 398 tasks      | elapsed:  1.3min\n",
      "[Parallel(n_jobs=15)]: Done 399 tasks      | elapsed:  1.3min\n",
      "[Parallel(n_jobs=15)]: Done 400 tasks      | elapsed:  1.3min\n",
      "[Parallel(n_jobs=15)]: Done 401 tasks      | elapsed:  1.3min\n",
      "[Parallel(n_jobs=15)]: Done 402 tasks      | elapsed:  1.3min\n",
      "[Parallel(n_jobs=15)]: Done 403 tasks      | elapsed:  1.3min\n"
     ]
    },
    {
     "name": "stderr",
     "output_type": "stream",
     "text": [
      "[Parallel(n_jobs=15)]: Done 404 tasks      | elapsed:  1.3min\n",
      "[Parallel(n_jobs=15)]: Done 405 tasks      | elapsed:  1.3min\n",
      "[Parallel(n_jobs=15)]: Done 406 tasks      | elapsed:  1.3min\n",
      "[Parallel(n_jobs=15)]: Done 407 tasks      | elapsed:  1.3min\n",
      "[Parallel(n_jobs=15)]: Done 408 tasks      | elapsed:  1.3min\n",
      "[Parallel(n_jobs=15)]: Done 409 tasks      | elapsed:  1.3min\n",
      "[Parallel(n_jobs=15)]: Done 410 tasks      | elapsed:  1.3min\n",
      "[Parallel(n_jobs=15)]: Done 411 tasks      | elapsed:  1.3min\n",
      "[Parallel(n_jobs=15)]: Done 412 tasks      | elapsed:  1.3min\n",
      "[Parallel(n_jobs=15)]: Done 413 tasks      | elapsed:  1.3min\n",
      "[Parallel(n_jobs=15)]: Done 414 tasks      | elapsed:  1.3min\n",
      "[Parallel(n_jobs=15)]: Done 415 tasks      | elapsed:  1.3min\n",
      "[Parallel(n_jobs=15)]: Done 416 tasks      | elapsed:  1.3min\n",
      "[Parallel(n_jobs=15)]: Done 417 tasks      | elapsed:  1.3min\n",
      "[Parallel(n_jobs=15)]: Done 418 tasks      | elapsed:  1.3min\n",
      "[Parallel(n_jobs=15)]: Done 419 tasks      | elapsed:  1.3min\n",
      "[Parallel(n_jobs=15)]: Done 420 tasks      | elapsed:  1.3min\n",
      "[Parallel(n_jobs=15)]: Done 421 tasks      | elapsed:  1.3min\n",
      "[Parallel(n_jobs=15)]: Done 422 tasks      | elapsed:  1.3min\n",
      "[Parallel(n_jobs=15)]: Done 423 tasks      | elapsed:  1.3min\n",
      "[Parallel(n_jobs=15)]: Done 424 tasks      | elapsed:  1.3min\n",
      "[Parallel(n_jobs=15)]: Done 425 tasks      | elapsed:  1.3min\n",
      "[Parallel(n_jobs=15)]: Done 426 tasks      | elapsed:  1.3min\n",
      "[Parallel(n_jobs=15)]: Done 427 tasks      | elapsed:  1.3min\n",
      "[Parallel(n_jobs=15)]: Done 428 tasks      | elapsed:  1.3min\n",
      "[Parallel(n_jobs=15)]: Done 429 tasks      | elapsed:  1.3min\n",
      "[Parallel(n_jobs=15)]: Done 430 tasks      | elapsed:  1.3min\n",
      "[Parallel(n_jobs=15)]: Done 431 tasks      | elapsed:  1.3min\n",
      "[Parallel(n_jobs=15)]: Done 432 tasks      | elapsed:  1.3min\n",
      "[Parallel(n_jobs=15)]: Done 433 tasks      | elapsed:  1.3min\n",
      "[Parallel(n_jobs=15)]: Done 434 tasks      | elapsed:  1.3min\n",
      "[Parallel(n_jobs=15)]: Done 435 tasks      | elapsed:  1.3min\n",
      "[Parallel(n_jobs=15)]: Done 436 tasks      | elapsed:  1.3min\n",
      "[Parallel(n_jobs=15)]: Done 437 tasks      | elapsed:  1.3min\n",
      "[Parallel(n_jobs=15)]: Done 438 tasks      | elapsed:  1.3min\n",
      "[Parallel(n_jobs=15)]: Done 439 tasks      | elapsed:  1.3min\n",
      "[Parallel(n_jobs=15)]: Done 440 tasks      | elapsed:  1.3min\n",
      "[Parallel(n_jobs=15)]: Done 441 tasks      | elapsed:  1.3min\n",
      "[Parallel(n_jobs=15)]: Done 442 tasks      | elapsed:  1.3min\n",
      "[Parallel(n_jobs=15)]: Done 443 tasks      | elapsed:  1.3min\n",
      "[Parallel(n_jobs=15)]: Done 444 tasks      | elapsed:  1.3min\n",
      "[Parallel(n_jobs=15)]: Done 445 tasks      | elapsed:  1.3min\n",
      "[Parallel(n_jobs=15)]: Done 446 tasks      | elapsed:  1.3min\n",
      "[Parallel(n_jobs=15)]: Done 447 tasks      | elapsed:  1.3min\n",
      "[Parallel(n_jobs=15)]: Done 448 tasks      | elapsed:  1.3min\n",
      "[Parallel(n_jobs=15)]: Done 449 tasks      | elapsed:  1.3min\n",
      "[Parallel(n_jobs=15)]: Done 450 tasks      | elapsed:  1.4min\n",
      "[Parallel(n_jobs=15)]: Done 451 tasks      | elapsed:  1.4min\n",
      "[Parallel(n_jobs=15)]: Done 452 tasks      | elapsed:  1.4min\n",
      "[Parallel(n_jobs=15)]: Done 453 tasks      | elapsed:  1.4min\n",
      "[Parallel(n_jobs=15)]: Done 454 tasks      | elapsed:  1.4min\n",
      "[Parallel(n_jobs=15)]: Done 455 tasks      | elapsed:  1.4min\n",
      "[Parallel(n_jobs=15)]: Done 456 tasks      | elapsed:  1.4min\n",
      "[Parallel(n_jobs=15)]: Done 457 tasks      | elapsed:  1.4min\n",
      "[Parallel(n_jobs=15)]: Done 458 tasks      | elapsed:  1.4min\n",
      "[Parallel(n_jobs=15)]: Done 459 tasks      | elapsed:  1.4min\n",
      "[Parallel(n_jobs=15)]: Done 460 tasks      | elapsed:  1.4min\n",
      "[Parallel(n_jobs=15)]: Done 461 tasks      | elapsed:  1.4min\n",
      "[Parallel(n_jobs=15)]: Done 462 tasks      | elapsed:  1.4min\n",
      "[Parallel(n_jobs=15)]: Done 463 tasks      | elapsed:  1.4min\n",
      "[Parallel(n_jobs=15)]: Done 464 tasks      | elapsed:  1.4min\n",
      "[Parallel(n_jobs=15)]: Done 465 tasks      | elapsed:  1.4min\n",
      "[Parallel(n_jobs=15)]: Done 466 tasks      | elapsed:  1.4min\n",
      "[Parallel(n_jobs=15)]: Done 467 tasks      | elapsed:  1.4min\n",
      "[Parallel(n_jobs=15)]: Done 468 tasks      | elapsed:  1.4min\n",
      "[Parallel(n_jobs=15)]: Done 469 tasks      | elapsed:  1.4min\n",
      "[Parallel(n_jobs=15)]: Done 470 tasks      | elapsed:  1.4min\n",
      "[Parallel(n_jobs=15)]: Done 471 tasks      | elapsed:  1.4min\n",
      "[Parallel(n_jobs=15)]: Done 472 tasks      | elapsed:  1.4min\n",
      "[Parallel(n_jobs=15)]: Done 473 tasks      | elapsed:  1.4min\n",
      "[Parallel(n_jobs=15)]: Done 474 tasks      | elapsed:  1.4min\n",
      "[Parallel(n_jobs=15)]: Done 475 tasks      | elapsed:  1.4min\n",
      "[Parallel(n_jobs=15)]: Done 476 tasks      | elapsed:  1.4min\n",
      "[Parallel(n_jobs=15)]: Done 477 tasks      | elapsed:  1.4min\n",
      "[Parallel(n_jobs=15)]: Done 478 tasks      | elapsed:  1.4min\n",
      "[Parallel(n_jobs=15)]: Done 479 tasks      | elapsed:  1.4min\n",
      "[Parallel(n_jobs=15)]: Done 480 tasks      | elapsed:  1.4min\n",
      "[Parallel(n_jobs=15)]: Done 481 tasks      | elapsed:  1.4min\n",
      "[Parallel(n_jobs=15)]: Done 482 tasks      | elapsed:  1.4min\n",
      "[Parallel(n_jobs=15)]: Done 483 tasks      | elapsed:  1.4min\n",
      "[Parallel(n_jobs=15)]: Done 484 tasks      | elapsed:  1.4min\n",
      "[Parallel(n_jobs=15)]: Done 485 tasks      | elapsed:  1.4min\n",
      "[Parallel(n_jobs=15)]: Done 486 tasks      | elapsed:  1.4min\n",
      "[Parallel(n_jobs=15)]: Done 487 tasks      | elapsed:  1.4min\n",
      "[Parallel(n_jobs=15)]: Done 488 tasks      | elapsed:  1.4min\n",
      "[Parallel(n_jobs=15)]: Done 489 tasks      | elapsed:  1.4min\n",
      "[Parallel(n_jobs=15)]: Done 490 tasks      | elapsed:  1.4min\n",
      "[Parallel(n_jobs=15)]: Done 491 tasks      | elapsed:  1.4min\n",
      "[Parallel(n_jobs=15)]: Done 492 tasks      | elapsed:  1.4min\n",
      "[Parallel(n_jobs=15)]: Done 493 tasks      | elapsed:  1.4min\n",
      "[Parallel(n_jobs=15)]: Done 494 tasks      | elapsed:  1.4min\n",
      "[Parallel(n_jobs=15)]: Done 495 tasks      | elapsed:  1.4min\n",
      "[Parallel(n_jobs=15)]: Done 496 tasks      | elapsed:  1.4min\n",
      "[Parallel(n_jobs=15)]: Done 497 tasks      | elapsed:  1.4min\n",
      "[Parallel(n_jobs=15)]: Done 498 tasks      | elapsed:  1.4min\n",
      "[Parallel(n_jobs=15)]: Done 499 tasks      | elapsed:  1.4min\n",
      "[Parallel(n_jobs=15)]: Done 500 tasks      | elapsed:  1.4min\n",
      "[Parallel(n_jobs=15)]: Done 501 tasks      | elapsed:  1.4min\n",
      "[Parallel(n_jobs=15)]: Done 502 tasks      | elapsed:  1.4min\n",
      "[Parallel(n_jobs=15)]: Done 503 tasks      | elapsed:  1.4min\n",
      "[Parallel(n_jobs=15)]: Done 504 tasks      | elapsed:  1.4min\n",
      "[Parallel(n_jobs=15)]: Done 505 tasks      | elapsed:  1.4min\n",
      "[Parallel(n_jobs=15)]: Done 506 tasks      | elapsed:  1.4min\n",
      "[Parallel(n_jobs=15)]: Done 507 tasks      | elapsed:  1.4min\n",
      "[Parallel(n_jobs=15)]: Done 508 tasks      | elapsed:  1.4min\n",
      "[Parallel(n_jobs=15)]: Done 509 tasks      | elapsed:  1.4min\n",
      "[Parallel(n_jobs=15)]: Done 510 tasks      | elapsed:  1.4min\n",
      "[Parallel(n_jobs=15)]: Done 511 tasks      | elapsed:  1.4min\n",
      "[Parallel(n_jobs=15)]: Done 512 tasks      | elapsed:  1.4min\n",
      "[Parallel(n_jobs=15)]: Done 513 tasks      | elapsed:  1.4min\n",
      "[Parallel(n_jobs=15)]: Done 514 tasks      | elapsed:  1.4min\n",
      "[Parallel(n_jobs=15)]: Done 515 tasks      | elapsed:  1.4min\n",
      "[Parallel(n_jobs=15)]: Done 516 tasks      | elapsed:  1.4min\n",
      "[Parallel(n_jobs=15)]: Done 517 tasks      | elapsed:  1.4min\n",
      "[Parallel(n_jobs=15)]: Done 518 tasks      | elapsed:  1.4min\n",
      "[Parallel(n_jobs=15)]: Done 519 tasks      | elapsed:  1.4min\n",
      "[Parallel(n_jobs=15)]: Done 520 tasks      | elapsed:  1.4min\n",
      "[Parallel(n_jobs=15)]: Done 521 tasks      | elapsed:  1.4min\n",
      "[Parallel(n_jobs=15)]: Done 522 tasks      | elapsed:  1.4min\n",
      "[Parallel(n_jobs=15)]: Done 523 tasks      | elapsed:  1.4min\n",
      "[Parallel(n_jobs=15)]: Done 524 tasks      | elapsed:  1.4min\n",
      "[Parallel(n_jobs=15)]: Done 525 tasks      | elapsed:  1.5min\n",
      "[Parallel(n_jobs=15)]: Done 526 tasks      | elapsed:  1.5min\n",
      "[Parallel(n_jobs=15)]: Done 527 tasks      | elapsed:  1.5min\n",
      "[Parallel(n_jobs=15)]: Done 528 tasks      | elapsed:  1.5min\n",
      "[Parallel(n_jobs=15)]: Done 529 tasks      | elapsed:  1.5min\n",
      "[Parallel(n_jobs=15)]: Done 530 tasks      | elapsed:  1.5min\n",
      "[Parallel(n_jobs=15)]: Done 531 tasks      | elapsed:  1.5min\n",
      "[Parallel(n_jobs=15)]: Done 532 tasks      | elapsed:  1.5min\n",
      "[Parallel(n_jobs=15)]: Done 533 tasks      | elapsed:  1.5min\n",
      "[Parallel(n_jobs=15)]: Done 534 tasks      | elapsed:  1.5min\n",
      "[Parallel(n_jobs=15)]: Done 535 tasks      | elapsed:  1.5min\n",
      "[Parallel(n_jobs=15)]: Done 536 tasks      | elapsed:  1.5min\n",
      "[Parallel(n_jobs=15)]: Done 537 tasks      | elapsed:  1.5min\n",
      "[Parallel(n_jobs=15)]: Done 538 tasks      | elapsed:  1.5min\n",
      "[Parallel(n_jobs=15)]: Done 539 tasks      | elapsed:  1.5min\n",
      "[Parallel(n_jobs=15)]: Done 540 tasks      | elapsed:  1.5min\n"
     ]
    },
    {
     "name": "stderr",
     "output_type": "stream",
     "text": [
      "[Parallel(n_jobs=15)]: Done 541 tasks      | elapsed:  1.5min\n",
      "[Parallel(n_jobs=15)]: Done 542 tasks      | elapsed:  1.5min\n",
      "[Parallel(n_jobs=15)]: Done 543 tasks      | elapsed:  1.5min\n",
      "[Parallel(n_jobs=15)]: Done 544 tasks      | elapsed:  1.5min\n",
      "[Parallel(n_jobs=15)]: Done 545 tasks      | elapsed:  1.5min\n",
      "[Parallel(n_jobs=15)]: Done 546 tasks      | elapsed:  1.5min\n",
      "[Parallel(n_jobs=15)]: Done 547 tasks      | elapsed:  1.5min\n",
      "[Parallel(n_jobs=15)]: Done 548 tasks      | elapsed:  1.5min\n",
      "[Parallel(n_jobs=15)]: Done 549 tasks      | elapsed:  1.5min\n",
      "[Parallel(n_jobs=15)]: Done 550 tasks      | elapsed:  1.5min\n",
      "[Parallel(n_jobs=15)]: Done 551 tasks      | elapsed:  1.5min\n",
      "[Parallel(n_jobs=15)]: Done 552 tasks      | elapsed:  1.5min\n",
      "[Parallel(n_jobs=15)]: Done 553 tasks      | elapsed:  1.5min\n",
      "[Parallel(n_jobs=15)]: Done 554 tasks      | elapsed:  1.5min\n",
      "[Parallel(n_jobs=15)]: Done 555 tasks      | elapsed:  1.5min\n",
      "[Parallel(n_jobs=15)]: Done 556 tasks      | elapsed:  1.5min\n",
      "[Parallel(n_jobs=15)]: Done 557 tasks      | elapsed:  1.5min\n",
      "[Parallel(n_jobs=15)]: Done 558 tasks      | elapsed:  1.5min\n",
      "[Parallel(n_jobs=15)]: Done 559 tasks      | elapsed:  1.5min\n",
      "[Parallel(n_jobs=15)]: Done 560 tasks      | elapsed:  1.5min\n",
      "[Parallel(n_jobs=15)]: Done 561 tasks      | elapsed:  1.5min\n",
      "[Parallel(n_jobs=15)]: Done 562 tasks      | elapsed:  1.5min\n",
      "[Parallel(n_jobs=15)]: Done 563 tasks      | elapsed:  1.5min\n",
      "[Parallel(n_jobs=15)]: Done 564 tasks      | elapsed:  1.5min\n",
      "[Parallel(n_jobs=15)]: Done 565 tasks      | elapsed:  1.5min\n",
      "[Parallel(n_jobs=15)]: Done 566 tasks      | elapsed:  1.5min\n",
      "[Parallel(n_jobs=15)]: Done 567 tasks      | elapsed:  1.5min\n",
      "[Parallel(n_jobs=15)]: Done 568 tasks      | elapsed:  1.5min\n",
      "[Parallel(n_jobs=15)]: Done 569 tasks      | elapsed:  1.5min\n",
      "[Parallel(n_jobs=15)]: Done 570 tasks      | elapsed:  1.5min\n",
      "[Parallel(n_jobs=15)]: Done 571 tasks      | elapsed:  1.5min\n",
      "[Parallel(n_jobs=15)]: Done 572 tasks      | elapsed:  1.5min\n",
      "[Parallel(n_jobs=15)]: Done 573 tasks      | elapsed:  1.5min\n",
      "[Parallel(n_jobs=15)]: Done 574 tasks      | elapsed:  1.5min\n",
      "[Parallel(n_jobs=15)]: Done 575 tasks      | elapsed:  1.5min\n",
      "[Parallel(n_jobs=15)]: Done 576 tasks      | elapsed:  1.5min\n",
      "[Parallel(n_jobs=15)]: Done 577 tasks      | elapsed:  1.5min\n",
      "[Parallel(n_jobs=15)]: Done 578 tasks      | elapsed:  1.5min\n",
      "[Parallel(n_jobs=15)]: Done 579 tasks      | elapsed:  1.5min\n",
      "[Parallel(n_jobs=15)]: Done 580 tasks      | elapsed:  1.5min\n",
      "[Parallel(n_jobs=15)]: Done 581 tasks      | elapsed:  1.5min\n",
      "[Parallel(n_jobs=15)]: Done 582 tasks      | elapsed:  1.5min\n",
      "[Parallel(n_jobs=15)]: Done 583 tasks      | elapsed:  1.5min\n",
      "[Parallel(n_jobs=15)]: Done 584 tasks      | elapsed:  1.5min\n",
      "[Parallel(n_jobs=15)]: Done 585 tasks      | elapsed:  1.5min\n",
      "[Parallel(n_jobs=15)]: Done 586 tasks      | elapsed:  1.5min\n",
      "[Parallel(n_jobs=15)]: Done 587 tasks      | elapsed:  1.5min\n",
      "[Parallel(n_jobs=15)]: Done 588 tasks      | elapsed:  1.5min\n",
      "[Parallel(n_jobs=15)]: Done 589 tasks      | elapsed:  1.5min\n",
      "[Parallel(n_jobs=15)]: Done 590 tasks      | elapsed:  1.5min\n",
      "[Parallel(n_jobs=15)]: Done 591 tasks      | elapsed:  1.6min\n",
      "[Parallel(n_jobs=15)]: Done 592 tasks      | elapsed:  1.6min\n",
      "[Parallel(n_jobs=15)]: Done 593 tasks      | elapsed:  1.6min\n",
      "[Parallel(n_jobs=15)]: Done 594 tasks      | elapsed:  1.6min\n",
      "[Parallel(n_jobs=15)]: Done 595 tasks      | elapsed:  1.6min\n",
      "[Parallel(n_jobs=15)]: Done 596 tasks      | elapsed:  1.6min\n",
      "[Parallel(n_jobs=15)]: Done 597 tasks      | elapsed:  1.6min\n",
      "[Parallel(n_jobs=15)]: Done 598 tasks      | elapsed:  1.6min\n",
      "[Parallel(n_jobs=15)]: Done 599 tasks      | elapsed:  1.6min\n",
      "[Parallel(n_jobs=15)]: Done 600 tasks      | elapsed:  1.6min\n",
      "[Parallel(n_jobs=15)]: Done 601 tasks      | elapsed:  1.6min\n",
      "[Parallel(n_jobs=15)]: Done 602 tasks      | elapsed:  1.6min\n",
      "[Parallel(n_jobs=15)]: Done 603 tasks      | elapsed:  1.6min\n",
      "[Parallel(n_jobs=15)]: Done 604 tasks      | elapsed:  1.6min\n",
      "[Parallel(n_jobs=15)]: Done 605 tasks      | elapsed:  1.6min\n",
      "[Parallel(n_jobs=15)]: Done 606 tasks      | elapsed:  1.6min\n",
      "[Parallel(n_jobs=15)]: Done 607 tasks      | elapsed:  1.6min\n",
      "[Parallel(n_jobs=15)]: Done 608 tasks      | elapsed:  1.6min\n",
      "[Parallel(n_jobs=15)]: Done 609 tasks      | elapsed:  1.6min\n",
      "[Parallel(n_jobs=15)]: Done 610 tasks      | elapsed:  1.6min\n",
      "[Parallel(n_jobs=15)]: Done 611 tasks      | elapsed:  1.6min\n",
      "[Parallel(n_jobs=15)]: Done 612 tasks      | elapsed:  1.6min\n",
      "[Parallel(n_jobs=15)]: Done 613 tasks      | elapsed:  1.6min\n",
      "[Parallel(n_jobs=15)]: Done 614 tasks      | elapsed:  1.6min\n",
      "[Parallel(n_jobs=15)]: Done 615 tasks      | elapsed:  1.6min\n",
      "[Parallel(n_jobs=15)]: Done 616 tasks      | elapsed:  1.6min\n",
      "[Parallel(n_jobs=15)]: Done 617 tasks      | elapsed:  1.6min\n",
      "[Parallel(n_jobs=15)]: Done 618 tasks      | elapsed:  1.6min\n",
      "[Parallel(n_jobs=15)]: Done 619 tasks      | elapsed:  1.6min\n",
      "[Parallel(n_jobs=15)]: Done 620 tasks      | elapsed:  1.6min\n",
      "[Parallel(n_jobs=15)]: Done 621 tasks      | elapsed:  1.6min\n",
      "[Parallel(n_jobs=15)]: Done 622 tasks      | elapsed:  1.6min\n",
      "[Parallel(n_jobs=15)]: Done 623 tasks      | elapsed:  1.6min\n",
      "[Parallel(n_jobs=15)]: Done 624 tasks      | elapsed:  1.6min\n",
      "[Parallel(n_jobs=15)]: Done 625 tasks      | elapsed:  1.6min\n",
      "[Parallel(n_jobs=15)]: Done 626 tasks      | elapsed:  1.6min\n",
      "[Parallel(n_jobs=15)]: Done 627 tasks      | elapsed:  1.6min\n",
      "[Parallel(n_jobs=15)]: Done 628 tasks      | elapsed:  1.6min\n",
      "[Parallel(n_jobs=15)]: Done 629 tasks      | elapsed:  1.6min\n",
      "[Parallel(n_jobs=15)]: Done 630 tasks      | elapsed:  1.6min\n",
      "[Parallel(n_jobs=15)]: Done 631 tasks      | elapsed:  1.6min\n",
      "[Parallel(n_jobs=15)]: Done 632 tasks      | elapsed:  1.6min\n",
      "[Parallel(n_jobs=15)]: Done 633 tasks      | elapsed:  1.6min\n",
      "[Parallel(n_jobs=15)]: Done 634 tasks      | elapsed:  1.6min\n",
      "[Parallel(n_jobs=15)]: Done 635 tasks      | elapsed:  1.6min\n",
      "[Parallel(n_jobs=15)]: Done 636 tasks      | elapsed:  1.6min\n",
      "[Parallel(n_jobs=15)]: Done 637 tasks      | elapsed:  1.6min\n",
      "[Parallel(n_jobs=15)]: Done 638 tasks      | elapsed:  1.6min\n",
      "[Parallel(n_jobs=15)]: Done 639 tasks      | elapsed:  1.6min\n",
      "[Parallel(n_jobs=15)]: Done 640 tasks      | elapsed:  1.6min\n",
      "[Parallel(n_jobs=15)]: Done 641 tasks      | elapsed:  1.6min\n",
      "[Parallel(n_jobs=15)]: Done 642 tasks      | elapsed:  1.6min\n",
      "[Parallel(n_jobs=15)]: Done 643 tasks      | elapsed:  1.6min\n",
      "[Parallel(n_jobs=15)]: Done 644 tasks      | elapsed:  1.6min\n",
      "[Parallel(n_jobs=15)]: Done 645 tasks      | elapsed:  1.6min\n",
      "[Parallel(n_jobs=15)]: Done 646 tasks      | elapsed:  1.6min\n",
      "[Parallel(n_jobs=15)]: Done 647 tasks      | elapsed:  1.6min\n",
      "[Parallel(n_jobs=15)]: Done 648 tasks      | elapsed:  1.6min\n",
      "[Parallel(n_jobs=15)]: Done 649 tasks      | elapsed:  1.6min\n",
      "[Parallel(n_jobs=15)]: Done 650 tasks      | elapsed:  1.6min\n",
      "[Parallel(n_jobs=15)]: Done 651 tasks      | elapsed:  1.6min\n",
      "[Parallel(n_jobs=15)]: Done 652 tasks      | elapsed:  1.6min\n",
      "[Parallel(n_jobs=15)]: Done 653 tasks      | elapsed:  1.6min\n",
      "[Parallel(n_jobs=15)]: Done 654 tasks      | elapsed:  1.6min\n",
      "[Parallel(n_jobs=15)]: Done 655 tasks      | elapsed:  1.6min\n",
      "[Parallel(n_jobs=15)]: Done 656 tasks      | elapsed:  1.7min\n",
      "[Parallel(n_jobs=15)]: Done 657 tasks      | elapsed:  1.7min\n",
      "[Parallel(n_jobs=15)]: Done 658 tasks      | elapsed:  1.7min\n",
      "[Parallel(n_jobs=15)]: Done 659 tasks      | elapsed:  1.7min\n",
      "[Parallel(n_jobs=15)]: Done 660 tasks      | elapsed:  1.7min\n",
      "[Parallel(n_jobs=15)]: Done 661 tasks      | elapsed:  1.7min\n",
      "[Parallel(n_jobs=15)]: Done 662 tasks      | elapsed:  1.7min\n",
      "[Parallel(n_jobs=15)]: Done 663 tasks      | elapsed:  1.7min\n",
      "[Parallel(n_jobs=15)]: Done 664 tasks      | elapsed:  1.7min\n",
      "[Parallel(n_jobs=15)]: Done 665 tasks      | elapsed:  1.7min\n",
      "[Parallel(n_jobs=15)]: Done 666 tasks      | elapsed:  1.7min\n",
      "[Parallel(n_jobs=15)]: Done 667 tasks      | elapsed:  1.7min\n",
      "[Parallel(n_jobs=15)]: Done 668 tasks      | elapsed:  1.7min\n",
      "[Parallel(n_jobs=15)]: Done 669 tasks      | elapsed:  1.7min\n",
      "[Parallel(n_jobs=15)]: Done 670 tasks      | elapsed:  1.7min\n",
      "[Parallel(n_jobs=15)]: Done 671 tasks      | elapsed:  1.7min\n",
      "[Parallel(n_jobs=15)]: Done 672 tasks      | elapsed:  1.7min\n",
      "[Parallel(n_jobs=15)]: Done 673 tasks      | elapsed:  1.7min\n",
      "[Parallel(n_jobs=15)]: Done 674 tasks      | elapsed:  1.7min\n"
     ]
    },
    {
     "name": "stderr",
     "output_type": "stream",
     "text": [
      "[Parallel(n_jobs=15)]: Done 675 tasks      | elapsed:  1.7min\n",
      "[Parallel(n_jobs=15)]: Done 676 tasks      | elapsed:  1.7min\n",
      "[Parallel(n_jobs=15)]: Done 677 tasks      | elapsed:  1.7min\n",
      "[Parallel(n_jobs=15)]: Done 678 tasks      | elapsed:  1.7min\n",
      "[Parallel(n_jobs=15)]: Done 679 tasks      | elapsed:  1.7min\n",
      "[Parallel(n_jobs=15)]: Done 680 tasks      | elapsed:  1.7min\n",
      "[Parallel(n_jobs=15)]: Done 681 tasks      | elapsed:  1.7min\n",
      "[Parallel(n_jobs=15)]: Done 682 tasks      | elapsed:  1.7min\n",
      "[Parallel(n_jobs=15)]: Done 683 tasks      | elapsed:  1.7min\n",
      "[Parallel(n_jobs=15)]: Done 684 tasks      | elapsed:  1.7min\n",
      "[Parallel(n_jobs=15)]: Done 685 tasks      | elapsed:  1.7min\n",
      "[Parallel(n_jobs=15)]: Done 686 tasks      | elapsed:  1.7min\n",
      "[Parallel(n_jobs=15)]: Done 687 tasks      | elapsed:  1.7min\n",
      "[Parallel(n_jobs=15)]: Done 688 tasks      | elapsed:  1.7min\n",
      "[Parallel(n_jobs=15)]: Done 689 tasks      | elapsed:  1.7min\n",
      "[Parallel(n_jobs=15)]: Done 690 tasks      | elapsed:  1.7min\n",
      "[Parallel(n_jobs=15)]: Done 691 tasks      | elapsed:  1.7min\n",
      "[Parallel(n_jobs=15)]: Done 692 tasks      | elapsed:  1.7min\n",
      "[Parallel(n_jobs=15)]: Done 693 tasks      | elapsed:  1.7min\n",
      "[Parallel(n_jobs=15)]: Done 694 tasks      | elapsed:  1.7min\n",
      "[Parallel(n_jobs=15)]: Done 695 tasks      | elapsed:  1.7min\n",
      "[Parallel(n_jobs=15)]: Done 696 tasks      | elapsed:  1.7min\n",
      "[Parallel(n_jobs=15)]: Done 697 tasks      | elapsed:  1.7min\n",
      "[Parallel(n_jobs=15)]: Done 698 tasks      | elapsed:  1.7min\n",
      "[Parallel(n_jobs=15)]: Done 699 tasks      | elapsed:  1.7min\n",
      "[Parallel(n_jobs=15)]: Done 700 tasks      | elapsed:  1.7min\n",
      "[Parallel(n_jobs=15)]: Done 701 tasks      | elapsed:  1.7min\n",
      "[Parallel(n_jobs=15)]: Done 702 tasks      | elapsed:  1.7min\n",
      "[Parallel(n_jobs=15)]: Done 703 tasks      | elapsed:  1.7min\n",
      "[Parallel(n_jobs=15)]: Done 704 tasks      | elapsed:  1.7min\n",
      "[Parallel(n_jobs=15)]: Done 705 tasks      | elapsed:  1.7min\n",
      "[Parallel(n_jobs=15)]: Done 706 tasks      | elapsed:  1.7min\n",
      "[Parallel(n_jobs=15)]: Done 707 tasks      | elapsed:  1.7min\n",
      "[Parallel(n_jobs=15)]: Done 708 tasks      | elapsed:  1.7min\n",
      "[Parallel(n_jobs=15)]: Done 709 tasks      | elapsed:  1.7min\n",
      "[Parallel(n_jobs=15)]: Done 710 tasks      | elapsed:  1.7min\n",
      "[Parallel(n_jobs=15)]: Done 711 tasks      | elapsed:  1.7min\n",
      "[Parallel(n_jobs=15)]: Done 712 tasks      | elapsed:  1.7min\n",
      "[Parallel(n_jobs=15)]: Done 713 tasks      | elapsed:  1.7min\n",
      "[Parallel(n_jobs=15)]: Done 714 tasks      | elapsed:  1.7min\n",
      "[Parallel(n_jobs=15)]: Done 715 tasks      | elapsed:  1.7min\n",
      "[Parallel(n_jobs=15)]: Done 716 tasks      | elapsed:  1.7min\n",
      "[Parallel(n_jobs=15)]: Done 717 tasks      | elapsed:  1.7min\n",
      "[Parallel(n_jobs=15)]: Done 718 tasks      | elapsed:  1.7min\n",
      "[Parallel(n_jobs=15)]: Done 719 tasks      | elapsed:  1.7min\n",
      "[Parallel(n_jobs=15)]: Done 720 tasks      | elapsed:  1.7min\n",
      "[Parallel(n_jobs=15)]: Done 721 tasks      | elapsed:  1.7min\n",
      "[Parallel(n_jobs=15)]: Done 722 tasks      | elapsed:  1.7min\n",
      "[Parallel(n_jobs=15)]: Done 723 tasks      | elapsed:  1.7min\n",
      "[Parallel(n_jobs=15)]: Done 724 tasks      | elapsed:  1.7min\n",
      "[Parallel(n_jobs=15)]: Done 725 tasks      | elapsed:  1.7min\n",
      "[Parallel(n_jobs=15)]: Done 726 tasks      | elapsed:  1.8min\n",
      "[Parallel(n_jobs=15)]: Done 727 tasks      | elapsed:  1.8min\n",
      "[Parallel(n_jobs=15)]: Done 728 tasks      | elapsed:  1.8min\n",
      "[Parallel(n_jobs=15)]: Done 729 tasks      | elapsed:  1.8min\n",
      "[Parallel(n_jobs=15)]: Done 730 tasks      | elapsed:  1.8min\n",
      "[Parallel(n_jobs=15)]: Done 731 tasks      | elapsed:  1.8min\n",
      "[Parallel(n_jobs=15)]: Done 732 tasks      | elapsed:  1.8min\n",
      "[Parallel(n_jobs=15)]: Done 733 tasks      | elapsed:  1.8min\n",
      "[Parallel(n_jobs=15)]: Done 734 tasks      | elapsed:  1.8min\n",
      "[Parallel(n_jobs=15)]: Done 735 tasks      | elapsed:  1.8min\n",
      "[Parallel(n_jobs=15)]: Done 736 tasks      | elapsed:  1.8min\n",
      "[Parallel(n_jobs=15)]: Done 737 tasks      | elapsed:  1.8min\n",
      "[Parallel(n_jobs=15)]: Done 738 tasks      | elapsed:  1.8min\n",
      "[Parallel(n_jobs=15)]: Done 739 tasks      | elapsed:  1.8min\n",
      "[Parallel(n_jobs=15)]: Done 740 tasks      | elapsed:  1.8min\n",
      "[Parallel(n_jobs=15)]: Done 741 tasks      | elapsed:  1.8min\n",
      "[Parallel(n_jobs=15)]: Done 770 out of 770 | elapsed:  1.8min finished\n"
     ]
    },
    {
     "name": "stdout",
     "output_type": "stream",
     "text": [
      "###### PanddaDefaultStructureAligner ######\n",
      "# # aligned_datasets # #\n",
      "Datasets aligned: \n",
      "PDK2-x0811\n",
      "PDK2-x0621\n",
      "PDK2-x0810\n",
      "PDK2-x0082\n",
      "PDK2-x0083\n",
      "PDK2-x0080\n",
      "PDK2-x0081\n",
      "PDK2-x0086\n",
      "PDK2-x0087\n",
      "PDK2-x0084\n",
      "PDK2-x0085\n",
      "PDK2-x0815\n",
      "PDK2-x0088\n",
      "PDK2-x0089\n",
      "PDK2-x0814\n",
      "PDK2-x0165\n",
      "PDK2-x0164\n",
      "PDK2-x0167\n",
      "PDK2-x0166\n",
      "PDK2-x0161\n",
      "PDK2-x0160\n",
      "PDK2-x0163\n",
      "PDK2-x0162\n",
      "PDK2-x0245\n",
      "PDK2-x0247\n",
      "PDK2-x0240\n",
      "PDK2-x0241\n",
      "PDK2-x0242\n",
      "PDK2-x0243\n",
      "PDK2-x0819\n",
      "PDK2-x0627\n",
      "PDK2-x0788\n",
      "PDK2-x0750\n",
      "PDK2-x0400\n",
      "PDK2-x0051\n",
      "PDK2-x0401\n",
      "PDK2-x0047\n",
      "PDK2-x0019\n",
      "PDK2-x0018\n",
      "PDK2-x0786\n",
      "PDK2-x0011\n",
      "PDK2-x0010\n",
      "PDK2-x0013\n",
      "PDK2-x0012\n",
      "PDK2-x0015\n",
      "PDK2-x0014\n",
      "PDK2-x0017\n",
      "PDK2-x0016\n",
      "PDK2-x0420\n",
      "PDK2-x0421\n",
      "PDK2-x0422\n",
      "PDK2-x0424\n",
      "PDK2-x0425\n",
      "PDK2-x0427\n",
      "PDK2-x0429\n",
      "PDK2-x0540\n",
      "PDK2-x0058\n",
      "PDK2-x0538\n",
      "PDK2-x0539\n",
      "PDK2-x0684\n",
      "PDK2-x0685\n",
      "PDK2-x0686\n",
      "PDK2-x0687\n",
      "PDK2-x0680\n",
      "PDK2-x0681\n",
      "PDK2-x0729\n",
      "PDK2-x0683\n",
      "PDK2-x0727\n",
      "PDK2-x0726\n",
      "PDK2-x0725\n",
      "PDK2-x0724\n",
      "PDK2-x0688\n",
      "PDK2-x0689\n",
      "PDK2-x0721\n",
      "PDK2-x0720\n",
      "PDK2-x0334\n",
      "PDK2-x0335\n",
      "PDK2-x0336\n",
      "PDK2-x0337\n",
      "PDK2-x0330\n",
      "PDK2-x0331\n",
      "PDK2-x0332\n",
      "PDK2-x0531\n",
      "PDK2-x0338\n",
      "PDK2-x0339\n",
      "PDK2-x0249\n",
      "PDK2-x0816\n",
      "PDK2-x0850\n",
      "PDK2-x0839\n",
      "PDK2-x0838\n",
      "PDK2-x0833\n",
      "PDK2-x0832\n",
      "PDK2-x0831\n",
      "PDK2-x0830\n",
      "PDK2-x0837\n",
      "PDK2-x0836\n",
      "PDK2-x0835\n",
      "PDK2-x0834\n",
      "PDK2-x0169\n",
      "PDK2-x0168\n",
      "PDK2-x0208\n",
      "PDK2-x0209\n",
      "PDK2-x0611\n",
      "PDK2-x0610\n",
      "PDK2-x0617\n",
      "PDK2-x0616\n",
      "PDK2-x0615\n",
      "PDK2-x0614\n",
      "PDK2-x0200\n",
      "PDK2-x0201\n",
      "PDK2-x0202\n",
      "PDK2-x0751\n",
      "PDK2-x0204\n",
      "PDK2-x0205\n",
      "PDK2-x0206\n",
      "PDK2-x0755\n",
      "PDK2-x0055\n",
      "PDK2-x0057\n",
      "PDK2-x0056\n",
      "PDK2-x0118\n",
      "PDK2-x0119\n",
      "PDK2-x0053\n",
      "PDK2-x0052\n",
      "PDK2-x0114\n",
      "PDK2-x0116\n",
      "PDK2-x0117\n",
      "PDK2-x0110\n",
      "PDK2-x0111\n",
      "PDK2-x0112\n",
      "PDK2-x0113\n",
      "PDK2-x0671\n",
      "PDK2-x0779\n",
      "PDK2-x0507\n",
      "PDK2-x0505\n",
      "PDK2-x0504\n",
      "PDK2-x0502\n",
      "PDK2-x0501\n",
      "PDK2-x0500\n",
      "PDK2-x0509\n",
      "PDK2-x0508\n",
      "PDK2-x0770\n",
      "PDK2-x0771\n",
      "PDK2-x0370\n",
      "PDK2-x0803\n",
      "PDK2-x0372\n",
      "PDK2-x0373\n",
      "PDK2-x0374\n",
      "PDK2-x0375\n",
      "PDK2-x0376\n",
      "PDK2-x0805\n",
      "PDK2-x0378\n",
      "PDK2-x0472\n",
      "PDK2-x0471\n",
      "PDK2-x0470\n",
      "PDK2-x0477\n",
      "PDK2-x0476\n",
      "PDK2-x0475\n",
      "PDK2-x0474\n",
      "PDK2-x0572\n",
      "PDK2-x0570\n",
      "PDK2-x0571\n",
      "PDK2-x0576\n",
      "PDK2-x0577\n",
      "PDK2-x0574\n",
      "PDK2-x0575\n",
      "PDK2-x0578\n",
      "PDK2-x0579\n",
      "PDK2-x0705\n",
      "PDK2-x0048\n",
      "PDK2-x0704\n",
      "PDK2-x0877\n",
      "PDK2-x0876\n",
      "PDK2-x0874\n",
      "PDK2-x0873\n",
      "PDK2-x0872\n",
      "PDK2-x0871\n",
      "PDK2-x0879\n",
      "PDK2-x0703\n",
      "PDK2-x0659\n",
      "PDK2-x0657\n",
      "PDK2-x0656\n",
      "PDK2-x0655\n",
      "PDK2-x0654\n",
      "PDK2-x0653\n",
      "PDK2-x0282\n",
      "PDK2-x0651\n",
      "PDK2-x0650\n",
      "PDK2-x0716\n",
      "PDK2-x0717\n",
      "PDK2-x0714\n",
      "PDK2-x0328\n",
      "PDK2-x0712\n",
      "PDK2-x0713\n",
      "PDK2-x0710\n",
      "PDK2-x0711\n",
      "PDK2-x0891\n",
      "PDK2-x0890\n",
      "PDK2-x0893\n",
      "PDK2-x0892\n",
      "PDK2-x0895\n",
      "PDK2-x0718\n",
      "PDK2-x0719\n",
      "PDK2-x0486\n",
      "PDK2-x0487\n",
      "PDK2-x0484\n",
      "PDK2-x0485\n",
      "PDK2-x0482\n",
      "PDK2-x0483\n",
      "PDK2-x0480\n",
      "PDK2-x0481\n",
      "PDK2-x0488\n",
      "PDK2-x0489\n",
      "PDK2-x0091\n",
      "PDK2-x0158\n",
      "PDK2-x0159\n",
      "PDK2-x0093\n",
      "PDK2-x0092\n",
      "PDK2-x0095\n",
      "PDK2-x0094\n",
      "PDK2-x0097\n",
      "PDK2-x0096\n",
      "PDK2-x0099\n",
      "PDK2-x0098\n",
      "PDK2-x0152\n",
      "PDK2-x0153\n",
      "PDK2-x0154\n",
      "PDK2-x0155\n",
      "PDK2-x0156\n",
      "PDK2-x0157\n",
      "PDK2-x0253\n",
      "PDK2-x0252\n",
      "PDK2-x0398\n",
      "PDK2-x0399\n",
      "PDK2-x0257\n",
      "PDK2-x0255\n",
      "PDK2-x0392\n",
      "PDK2-x0393\n",
      "PDK2-x0259\n",
      "PDK2-x0258\n",
      "PDK2-x0396\n",
      "PDK2-x0397\n",
      "PDK2-x0394\n",
      "PDK2-x0395\n",
      "PDK2-x0131\n",
      "PDK2-x0802\n",
      "PDK2-x0479\n",
      "PDK2-x0478\n",
      "PDK2-x0806\n",
      "PDK2-x0807\n",
      "PDK2-x0028\n",
      "PDK2-x0029\n",
      "PDK2-x0024\n",
      "PDK2-x0025\n",
      "PDK2-x0026\n",
      "PDK2-x0027\n",
      "PDK2-x0020\n",
      "PDK2-x0021\n",
      "PDK2-x0022\n",
      "PDK2-x0023\n",
      "PDK2-x0808\n",
      "PDK2-x0437\n",
      "PDK2-x0046\n",
      "PDK2-x0435\n",
      "PDK2-x0434\n",
      "PDK2-x0433\n",
      "PDK2-x0432\n",
      "PDK2-x0431\n",
      "PDK2-x0430\n",
      "PDK2-x0536\n",
      "PDK2-x0537\n",
      "PDK2-x0534\n",
      "PDK2-x0535\n",
      "PDK2-x0533\n",
      "PDK2-x0439\n",
      "PDK2-x0438\n",
      "PDK2-x0881\n",
      "PDK2-x0329\n",
      "PDK2-x0283\n",
      "PDK2-x0284\n",
      "PDK2-x0286\n",
      "PDK2-x0322\n",
      "PDK2-x0321\n",
      "PDK2-x0320\n",
      "PDK2-x0327\n",
      "PDK2-x0325\n",
      "PDK2-x0324\n",
      "PDK2-x0442\n",
      "PDK2-x0443\n",
      "PDK2-x0440\n",
      "PDK2-x0441\n",
      "PDK2-x0446\n",
      "PDK2-x0447\n",
      "PDK2-x0444\n",
      "PDK2-x0445\n",
      "PDK2-x0448\n",
      "PDK2-x0049\n",
      "PDK2-x0848\n",
      "PDK2-x0849\n",
      "PDK2-x0846\n",
      "PDK2-x0847\n",
      "PDK2-x0844\n",
      "PDK2-x0845\n",
      "PDK2-x0843\n",
      "PDK2-x0177\n",
      "PDK2-x0194\n",
      "PDK2-x0195\n",
      "PDK2-x0196\n",
      "PDK2-x0665\n",
      "PDK2-x0190\n",
      "PDK2-x0191\n",
      "PDK2-x0219\n",
      "PDK2-x0218\n",
      "PDK2-x0217\n",
      "PDK2-x0216\n",
      "PDK2-x0215\n",
      "PDK2-x0214\n",
      "PDK2-x0198\n",
      "PDK2-x0212\n",
      "PDK2-x0211\n",
      "PDK2-x0210\n",
      "PDK2-x0699\n",
      "PDK2-x0693\n",
      "PDK2-x0692\n",
      "PDK2-x0691\n",
      "PDK2-x0690\n",
      "PDK2-x0697\n",
      "PDK2-x0695\n",
      "PDK2-x0694\n",
      "PDK2-x0068\n",
      "PDK2-x0069\n",
      "PDK2-x0630\n",
      "PDK2-x0060\n",
      "PDK2-x0061\n",
      "PDK2-x0062\n",
      "PDK2-x0063\n",
      "PDK2-x0064\n",
      "PDK2-x0065\n",
      "PDK2-x0066\n",
      "PDK2-x0067\n",
      "PDK2-x0103\n",
      "PDK2-x0102\n",
      "PDK2-x0101\n",
      "PDK2-x0269\n",
      "PDK2-x0105\n",
      "PDK2-x0104\n",
      "PDK2-x0262\n",
      "PDK2-x0263\n",
      "PDK2-x0260\n",
      "PDK2-x0261\n",
      "PDK2-x0266\n",
      "PDK2-x0267\n",
      "PDK2-x0264\n",
      "PDK2-x0265\n",
      "PDK2-x0636\n",
      "PDK2-x0666\n",
      "PDK2-x0748\n",
      "PDK2-x0664\n",
      "PDK2-x0662\n",
      "PDK2-x0663\n",
      "PDK2-x0367\n",
      "PDK2-x0366\n",
      "PDK2-x0812\n",
      "PDK2-x0363\n",
      "PDK2-x0362\n",
      "PDK2-x0817\n",
      "PDK2-x0409\n",
      "PDK2-x0406\n",
      "PDK2-x0407\n",
      "PDK2-x0404\n",
      "PDK2-x0405\n",
      "PDK2-x0402\n",
      "PDK2-x0403\n",
      "PDK2-x0369\n",
      "PDK2-x0368\n",
      "PDK2-x0800\n",
      "PDK2-x0560\n",
      "PDK2-x0563\n",
      "PDK2-x0562\n",
      "PDK2-x0565\n",
      "PDK2-x0387\n",
      "PDK2-x0567\n",
      "PDK2-x0566\n",
      "PDK2-x0569\n",
      "PDK2-x0568\n",
      "PDK2-x0743\n",
      "PDK2-x0706\n",
      "PDK2-x0742\n",
      "PDK2-x0213\n",
      "PDK2-x0801\n",
      "PDK2-x0199\n",
      "PDK2-x0747\n",
      "PDK2-x0746\n",
      "PDK2-x0312\n",
      "PDK2-x0313\n",
      "PDK2-x0707\n",
      "PDK2-x0311\n",
      "PDK2-x0701\n",
      "PDK2-x0700\n",
      "PDK2-x0314\n",
      "PDK2-x0702\n",
      "PDK2-x0319\n",
      "PDK2-x0709\n",
      "PDK2-x0708\n",
      "PDK2-x0495\n",
      "PDK2-x0494\n",
      "PDK2-x0497\n",
      "PDK2-x0496\n",
      "PDK2-x0491\n",
      "PDK2-x0490\n",
      "PDK2-x0493\n",
      "PDK2-x0492\n",
      "PDK2-x0499\n",
      "PDK2-x0498\n",
      "PDK2-x0715\n",
      "PDK2-x0798\n",
      "PDK2-x0799\n",
      "PDK2-x0796\n",
      "PDK2-x0797\n",
      "PDK2-x0794\n",
      "PDK2-x0792\n",
      "PDK2-x0793\n",
      "PDK2-x0790\n",
      "PDK2-x0791\n",
      "PDK2-x0804\n",
      "PDK2-x0639\n",
      "PDK2-x0638\n",
      "PDK2-x0149\n",
      "PDK2-x0148\n",
      "PDK2-x0147\n",
      "PDK2-x0146\n",
      "PDK2-x0145\n",
      "PDK2-x0144\n",
      "PDK2-x0143\n",
      "PDK2-x0142\n",
      "PDK2-x0140\n",
      "PDK2-x0389\n",
      "PDK2-x0388\n",
      "PDK2-x0224\n",
      "PDK2-x0225\n",
      "PDK2-x0222\n",
      "PDK2-x0223\n",
      "PDK2-x0381\n",
      "PDK2-x0380\n",
      "PDK2-x0383\n",
      "PDK2-x0382\n",
      "PDK2-x0384\n",
      "PDK2-x0228\n",
      "PDK2-x0386\n",
      "PDK2-x0723\n",
      "PDK2-x0722\n",
      "PDK2-x0090\n",
      "PDK2-x0033\n",
      "PDK2-x0032\n",
      "PDK2-x0031\n",
      "PDK2-x0030\n",
      "PDK2-x0037\n",
      "PDK2-x0036\n",
      "PDK2-x0035\n",
      "PDK2-x0034\n",
      "PDK2-x0132\n",
      "PDK2-x0133\n",
      "PDK2-x0039\n",
      "PDK2-x0038\n",
      "PDK2-x0136\n",
      "PDK2-x0137\n",
      "PDK2-x0134\n",
      "PDK2-x0529\n",
      "PDK2-x0528\n",
      "PDK2-x0525\n",
      "PDK2-x0524\n",
      "PDK2-x0526\n",
      "PDK2-x0520\n",
      "PDK2-x0523\n",
      "PDK2-x0522\n",
      "PDK2-x0809\n",
      "PDK2-x0203\n",
      "PDK2-x0631\n",
      "PDK2-x0682\n",
      "PDK2-x0296\n",
      "PDK2-x0295\n",
      "PDK2-x0293\n",
      "PDK2-x0292\n",
      "PDK2-x0291\n",
      "PDK2-x0359\n",
      "PDK2-x0356\n",
      "PDK2-x0357\n",
      "PDK2-x0354\n",
      "PDK2-x0355\n",
      "PDK2-x0352\n",
      "PDK2-x0138\n",
      "PDK2-x0350\n",
      "PDK2-x0351\n",
      "PDK2-x0451\n",
      "PDK2-x0450\n",
      "PDK2-x0453\n",
      "PDK2-x0452\n",
      "PDK2-x0455\n",
      "PDK2-x0454\n",
      "PDK2-x0457\n",
      "PDK2-x0456\n",
      "PDK2-x0459\n",
      "PDK2-x0458\n",
      "PDK2-x0592\n",
      "PDK2-x0593\n",
      "PDK2-x0594\n",
      "PDK2-x0595\n",
      "PDK2-x0596\n",
      "PDK2-x0597\n",
      "PDK2-x0858\n",
      "PDK2-x0633\n",
      "PDK2-x0855\n",
      "PDK2-x0854\n",
      "PDK2-x0857\n",
      "PDK2-x0856\n",
      "PDK2-x0851\n",
      "PDK2-x0130\n",
      "PDK2-x0853\n",
      "PDK2-x0852\n",
      "PDK2-x0749\n",
      "PDK2-x0189\n",
      "PDK2-x0188\n",
      "PDK2-x0183\n",
      "PDK2-x0180\n",
      "PDK2-x0187\n",
      "PDK2-x0186\n",
      "PDK2-x0185\n",
      "PDK2-x0184\n",
      "PDK2-x0675\n",
      "PDK2-x0674\n",
      "PDK2-x0677\n",
      "PDK2-x0778\n",
      "PDK2-x0670\n",
      "PDK2-x0673\n",
      "PDK2-x0672\n",
      "PDK2-x0774\n",
      "PDK2-x0775\n",
      "PDK2-x0776\n",
      "PDK2-x0679\n",
      "PDK2-x0678\n",
      "PDK2-x0772\n",
      "PDK2-x0773\n",
      "PDK2-x0583\n",
      "PDK2-x0582\n",
      "PDK2-x0635\n",
      "PDK2-x0660\n",
      "PDK2-x0364\n",
      "PDK2-x0828\n",
      "PDK2-x0268\n",
      "PDK2-x0829\n",
      "PDK2-x0661\n",
      "PDK2-x0100\n",
      "PDK2-x0079\n",
      "PDK2-x0078\n",
      "PDK2-x0077\n",
      "PDK2-x0076\n",
      "PDK2-x0075\n",
      "PDK2-x0074\n",
      "PDK2-x0073\n",
      "PDK2-x0072\n",
      "PDK2-x0071\n",
      "PDK2-x0070\n",
      "PDK2-x0176\n",
      "PDK2-x0278\n",
      "PDK2-x0174\n",
      "PDK2-x0175\n",
      "PDK2-x0172\n",
      "PDK2-x0173\n",
      "PDK2-x0170\n",
      "PDK2-x0171\n",
      "PDK2-x0271\n",
      "PDK2-x0270\n",
      "PDK2-x0273\n",
      "PDK2-x0275\n",
      "PDK2-x0274\n",
      "PDK2-x0178\n",
      "PDK2-x0179\n",
      "PDK2-x0629\n",
      "PDK2-x0588\n",
      "PDK2-x0108\n",
      "PDK2-x0150\n",
      "PDK2-x0151\n",
      "PDK2-x0361\n",
      "PDK2-x0620\n",
      "PDK2-x0008\n",
      "PDK2-x0009\n",
      "PDK2-x0003\n",
      "PDK2-x0001\n",
      "PDK2-x0006\n",
      "PDK2-x0007\n",
      "PDK2-x0004\n",
      "PDK2-x0005\n",
      "PDK2-x0624\n",
      "PDK2-x0360\n",
      "PDK2-x0625\n",
      "PDK2-x0824\n",
      "PDK2-x0825\n",
      "PDK2-x0826\n",
      "PDK2-x0827\n",
      "PDK2-x0419\n",
      "PDK2-x0418\n",
      "PDK2-x0822\n",
      "PDK2-x0823\n",
      "PDK2-x0415\n",
      "PDK2-x0414\n",
      "PDK2-x0416\n",
      "PDK2-x0411\n",
      "PDK2-x0410\n",
      "PDK2-x0413\n",
      "PDK2-x0412\n",
      "PDK2-x0555\n",
      "PDK2-x0556\n",
      "PDK2-x0557\n",
      "PDK2-x0558\n",
      "PDK2-x0559\n",
      "PDK2-x0613\n",
      "PDK2-x0612\n",
      "PDK2-x0758\n",
      "PDK2-x0741\n",
      "PDK2-x0759\n",
      "PDK2-x0390\n",
      "PDK2-x0738\n",
      "PDK2-x0739\n",
      "PDK2-x0391\n",
      "PDK2-x0632\n",
      "PDK2-x0730\n",
      "PDK2-x0731\n",
      "PDK2-x0732\n",
      "PDK2-x0733\n",
      "PDK2-x0734\n",
      "PDK2-x0736\n",
      "PDK2-x0737\n",
      "PDK2-x0301\n",
      "PDK2-x0752\n",
      "PDK2-x0303\n",
      "PDK2-x0302\n",
      "PDK2-x0304\n",
      "PDK2-x0307\n",
      "PDK2-x0753\n",
      "PDK2-x0309\n",
      "PDK2-x0308\n",
      "PDK2-x0408\n",
      "PDK2-x0619\n",
      "PDK2-x0618\n",
      "PDK2-x0668\n",
      "PDK2-x0756\n",
      "PDK2-x0626\n",
      "PDK2-x0757\n",
      "PDK2-x0789\n",
      "PDK2-x0754\n",
      "PDK2-x0785\n",
      "PDK2-x0784\n",
      "PDK2-x0787\n",
      "PDK2-x0207\n",
      "PDK2-x0781\n",
      "PDK2-x0780\n",
      "PDK2-x0783\n",
      "PDK2-x0782\n",
      "PDK2-x0608\n",
      "PDK2-x0609\n",
      "PDK2-x0604\n",
      "PDK2-x0605\n",
      "PDK2-x0647\n",
      "PDK2-x0600\n",
      "PDK2-x0601\n",
      "PDK2-x0602\n",
      "PDK2-x0603\n",
      "PDK2-x0235\n",
      "PDK2-x0237\n",
      "PDK2-x0667\n",
      "PDK2-x0231\n",
      "PDK2-x0230\n",
      "PDK2-x0232\n",
      "PDK2-x0745\n",
      "PDK2-x0239\n",
      "PDK2-x0888\n",
      "PDK2-x0628\n",
      "PDK2-x0744\n",
      "PDK2-x0880\n",
      "PDK2-x0129\n",
      "PDK2-x0128\n",
      "PDK2-x0044\n",
      "PDK2-x0768\n",
      "PDK2-x0042\n",
      "PDK2-x0043\n",
      "PDK2-x0040\n",
      "PDK2-x0041\n",
      "PDK2-x0121\n",
      "PDK2-x0120\n",
      "PDK2-x0123\n",
      "PDK2-x0122\n",
      "PDK2-x0125\n",
      "PDK2-x0124\n",
      "PDK2-x0127\n",
      "PDK2-x0126\n",
      "PDK2-x0510\n",
      "PDK2-x0511\n",
      "PDK2-x0512\n",
      "PDK2-x0513\n",
      "PDK2-x0514\n",
      "PDK2-x0515\n",
      "PDK2-x0516\n",
      "PDK2-x0517\n",
      "PDK2-x0518\n",
      "PDK2-x0519\n",
      "PDK2-x0740\n",
      "PDK2-x0300\n",
      "PDK2-x0820\n",
      "PDK2-x0349\n",
      "PDK2-x0348\n",
      "PDK2-x0345\n",
      "PDK2-x0344\n",
      "PDK2-x0346\n",
      "PDK2-x0341\n",
      "PDK2-x0340\n",
      "PDK2-x0821\n",
      "PDK2-x0342\n",
      "PDK2-x0464\n",
      "PDK2-x0465\n",
      "PDK2-x0466\n",
      "PDK2-x0467\n",
      "PDK2-x0460\n",
      "PDK2-x0461\n",
      "PDK2-x0463\n",
      "PDK2-x0587\n",
      "PDK2-x0586\n",
      "PDK2-x0584\n",
      "PDK2-x0468\n",
      "PDK2-x0469\n",
      "PDK2-x0581\n",
      "PDK2-x0580\n",
      "PDK2-x0728\n",
      "PDK2-x0358\n",
      "PDK2-x0622\n",
      "PDK2-x0860\n",
      "PDK2-x0861\n",
      "PDK2-x0862\n",
      "PDK2-x0863\n",
      "PDK2-x0864\n",
      "PDK2-x0865\n",
      "PDK2-x0866\n",
      "PDK2-x0867\n",
      "PDK2-x0868\n",
      "PDK2-x0869\n",
      "PDK2-x0648\n",
      "PDK2-x0649\n",
      "PDK2-x0590\n",
      "PDK2-x0623\n",
      "PDK2-x0642\n",
      "PDK2-x0643\n",
      "PDK2-x0644\n",
      "PDK2-x0645\n",
      "PDK2-x0646\n",
      "PDK2-x0353\n",
      "PDK2-x0763\n",
      "PDK2-x0762\n",
      "PDK2-x0761\n",
      "PDK2-x0760\n",
      "PDK2-x0767\n",
      "PDK2-x0766\n",
      "PDK2-x0765\n",
      "PDK2-x0764\n",
      "PDK2-x0882\n",
      "PDK2-x0883\n",
      "PDK2-x0769\n",
      "PDK2-x0298\n",
      "PDK2-x0886\n",
      "PDK2-x0885\n",
      "PDK2-x0598\n",
      "PDK2-x0599\n",
      "PDK2-x0193\n",
      "\n",
      "# # not_aligned_datasets # #\n",
      "Datasets not aligned: \n",
      "\n",
      "\n"
     ]
    }
   ],
   "source": [
    "if \"align\" in pandda_config.dataset_transforms:\n",
    "    transform = pandda_config.dataset_transforms[\"align\"]\n",
    "    dataset = transform(dataset, reference)\n",
    "    print(\"###### {} ######\".format(transform.name))\n",
    "    for block, record in transform.log().items():\n",
    "        print(\"# # {} # #\".format(block))\n",
    "        print(record)"
   ]
  },
  {
   "cell_type": "markdown",
   "metadata": {},
   "source": [
    "# Setup Output"
   ]
  },
  {
   "cell_type": "code",
   "execution_count": 16,
   "metadata": {},
   "outputs": [
    {
     "name": "stdout",
     "output_type": "stream",
     "text": [
      "####### pandda_created ########\n",
      "Output directory created: \n",
      "True\n",
      "\n"
     ]
    }
   ],
   "source": [
    "tree = pandda_config.pandda_output(dataset)\n",
    "for block, record in pandda_config.pandda_output.log().items():\n",
    "    print(\"####### {} ########\".format(block))\n",
    "    print(record)"
   ]
  },
  {
   "cell_type": "markdown",
   "metadata": {},
   "source": [
    "# Model"
   ]
  },
  {
   "cell_type": "code",
   "execution_count": 17,
   "metadata": {},
   "outputs": [],
   "source": [
    "# Define Model\n",
    "pandda_event_model = PanDDAEventModel(pandda_config.statistical_model,\n",
    "                                      pandda_config.clusterer,\n",
    "                                      pandda_config.event_finder,\n",
    "                                      bdc_calculator=pandda_config.bdc_calculator,\n",
    "                                      statistics=[],\n",
    "                                      map_maker=pandda_config.map_maker, \n",
    "                                      event_table_maker=pandda_config.event_table_maker,\n",
    "                                      cpus=config[\"args\"][\"cpus\"],\n",
    "                                      tree=tree)"
   ]
  },
  {
   "cell_type": "markdown",
   "metadata": {},
   "source": [
    "# Partition"
   ]
  },
  {
   "cell_type": "code",
   "execution_count": 18,
   "metadata": {},
   "outputs": [],
   "source": [
    "dataset.partitions = pandda_config.partitioner(dataset.datasets)"
   ]
  },
  {
   "cell_type": "markdown",
   "metadata": {},
   "source": [
    "# Fit, evaluate, Criticise - Single dataset, Direct eval"
   ]
  },
  {
   "cell_type": "markdown",
   "metadata": {},
   "source": [
    "##  VALIDATED!"
   ]
  },
  {
   "cell_type": "code",
   "execution_count": 19,
   "metadata": {},
   "outputs": [],
   "source": [
    "# # Main Loop\n",
    "# dataloader = DefaultPanDDADataloader(min_train_datasets=60, \n",
    "#                                      max_test_datasets=60)\n"
   ]
  },
  {
   "cell_type": "code",
   "execution_count": 20,
   "metadata": {},
   "outputs": [],
   "source": [
    "# idx, ds = dataloader(dataset).next()"
   ]
  },
  {
   "cell_type": "code",
   "execution_count": 21,
   "metadata": {},
   "outputs": [],
   "source": [
    "# context = pandda_event_model(idx, ds, reference)"
   ]
  },
  {
   "cell_type": "code",
   "execution_count": 22,
   "metadata": {},
   "outputs": [],
   "source": [
    "# model = context.__enter__()"
   ]
  },
  {
   "cell_type": "code",
   "execution_count": 23,
   "metadata": {},
   "outputs": [],
   "source": [
    "# model.fit()  # Fit the statistical model\n"
   ]
  },
  {
   "cell_type": "code",
   "execution_count": 24,
   "metadata": {},
   "outputs": [],
   "source": [
    "# dtags = model.dataset.partition_samples(\"test\").keys()\n",
    "# truncated_datasets = model.dataset.sample_loader.truncated_datasets\n",
    "# sample_loaders = {dtag: lambda d: model.dataset.sample_loader.get_sample(2.13786674777, d)\n",
    "#                   for dtag\n",
    "#                   in dtags}"
   ]
  },
  {
   "cell_type": "code",
   "execution_count": 25,
   "metadata": {},
   "outputs": [],
   "source": [
    "# result = model.evaluate_single(sample_loaders[\"PDK2-x0621\"],\n",
    "#                                truncated_datasets[\"PDK2-x0621\"],\n",
    "#                                model.dataset.sample_loader.ref_map)"
   ]
  },
  {
   "cell_type": "code",
   "execution_count": 26,
   "metadata": {},
   "outputs": [],
   "source": [
    "# model.grid = model.dataset.sample_loader.grid\n",
    "# model.grid"
   ]
  },
  {
   "cell_type": "code",
   "execution_count": 27,
   "metadata": {},
   "outputs": [],
   "source": [
    "# model.criticise_single(sample_loaders[\"PDK2-x0621\"],\n",
    "#                        truncated_datasets[\"PDK2-x0621\"],\n",
    "#                        model.dataset.sample_loader.ref_map,\n",
    "#                        result[2],\n",
    "#                        result[3],\n",
    "#                        tree)"
   ]
  },
  {
   "cell_type": "code",
   "execution_count": 28,
   "metadata": {},
   "outputs": [],
   "source": [
    "# model.dataset.max_res = max([d.data.summary.high_res for dtag, d in model.dataset.datasets.items()])"
   ]
  },
  {
   "cell_type": "code",
   "execution_count": 29,
   "metadata": {},
   "outputs": [],
   "source": [
    "# model.evaluate_all()"
   ]
  },
  {
   "cell_type": "code",
   "execution_count": 30,
   "metadata": {},
   "outputs": [],
   "source": [
    "# model.criticise_all(tree)"
   ]
  },
  {
   "cell_type": "markdown",
   "metadata": {},
   "source": [
    "# Fit, evaluate, Criticise - All datasets, Local dask cluster"
   ]
  },
  {
   "cell_type": "markdown",
   "metadata": {},
   "source": [
    "## TESTING"
   ]
  },
  {
   "cell_type": "code",
   "execution_count": 31,
   "metadata": {},
   "outputs": [],
   "source": [
    "# # Main Loop\n",
    "# dataloader = DefaultPanDDADataloader(min_train_datasets=60, \n",
    "#                                      max_test_datasets=60)\n"
   ]
  },
  {
   "cell_type": "code",
   "execution_count": 32,
   "metadata": {},
   "outputs": [],
   "source": [
    "# ds = [(idx, d) for idx, d in dataloader(dataset)]"
   ]
  },
  {
   "cell_type": "code",
   "execution_count": 33,
   "metadata": {},
   "outputs": [],
   "source": [
    "# # Set up client\n",
    "# # client = dask.distributed.Client(scheduler_file=\"scheduler.json\")\n",
    "# cluster = LocalCluster(n_workers=2, threads_per_worker=1)\n",
    "# client = Client(cluster)"
   ]
  },
  {
   "cell_type": "code",
   "execution_count": 34,
   "metadata": {},
   "outputs": [],
   "source": [
    "# client"
   ]
  },
  {
   "cell_type": "code",
   "execution_count": 35,
   "metadata": {},
   "outputs": [],
   "source": [
    "# # Get base distributed model\n",
    "# pandda_event_model_distributed = PanDDAEventModelDistributed(pandda_config.statistical_model,\n",
    "#                                       pandda_config.clusterer,\n",
    "#                                       pandda_config.event_finder,\n",
    "#                                         dataset=dataset,\n",
    "#                                       bdc_calculator=pandda_config.bdc_calculator,\n",
    "#                                       statistics=[],\n",
    "#                                       map_maker=pandda_config.map_maker, \n",
    "#                                       event_table_maker=pandda_config.event_table_maker,\n",
    "#                                       cpus=config[\"args\"][\"cpus\"],\n",
    "#                                       tree=tree)"
   ]
  },
  {
   "cell_type": "code",
   "execution_count": 36,
   "metadata": {},
   "outputs": [],
   "source": [
    "# pandda_event_model_distributed.instantiate(reference,\n",
    "#                                            tree)"
   ]
  },
  {
   "cell_type": "code",
   "execution_count": 37,
   "metadata": {
    "scrolled": true
   },
   "outputs": [],
   "source": [
    "# # Instantiate models\n",
    "# models = [pandda_event_model_distributed.clone(dataset=d, \n",
    "#                                    name=idx)\n",
    "#          for idx, d\n",
    "#          in ds]"
   ]
  },
  {
   "cell_type": "code",
   "execution_count": 38,
   "metadata": {},
   "outputs": [],
   "source": [
    "# models"
   ]
  },
  {
   "cell_type": "code",
   "execution_count": 39,
   "metadata": {},
   "outputs": [],
   "source": [
    "# # Load model moponents\n",
    "# models_loaded = client.map(load,\n",
    "#                     models,\n",
    "#                           pure=False)"
   ]
  },
  {
   "cell_type": "code",
   "execution_count": 40,
   "metadata": {},
   "outputs": [],
   "source": [
    "# models_loaded"
   ]
  },
  {
   "cell_type": "code",
   "execution_count": 41,
   "metadata": {},
   "outputs": [],
   "source": [
    "# # Load models over nodes\n",
    "# models_fit = client.map(fit, \n",
    "#                            models_loaded,\n",
    "#                        pure=False)\n"
   ]
  },
  {
   "cell_type": "code",
   "execution_count": 42,
   "metadata": {},
   "outputs": [],
   "source": [
    "# models_fit"
   ]
  },
  {
   "cell_type": "code",
   "execution_count": 43,
   "metadata": {},
   "outputs": [],
   "source": [
    "# # Ask models to process\n",
    "# models_evaluated = client.map(evaluate, \n",
    "#                               models_fit,\n",
    "#                              pure=False)\n"
   ]
  },
  {
   "cell_type": "code",
   "execution_count": 44,
   "metadata": {},
   "outputs": [],
   "source": [
    "# models_evaluated"
   ]
  },
  {
   "cell_type": "code",
   "execution_count": 45,
   "metadata": {},
   "outputs": [],
   "source": [
    "# # Ask models to criticise\n",
    "# event_tables = client.map(criticise, \n",
    "#                                models_evaluated, \n",
    "#                                pure=False)\n"
   ]
  },
  {
   "cell_type": "code",
   "execution_count": 46,
   "metadata": {
    "scrolled": true
   },
   "outputs": [],
   "source": [
    "# event_tables"
   ]
  },
  {
   "cell_type": "code",
   "execution_count": 47,
   "metadata": {},
   "outputs": [],
   "source": [
    "# event_tables_results =[e.result() for e in event_tables]"
   ]
  },
  {
   "cell_type": "code",
   "execution_count": 48,
   "metadata": {},
   "outputs": [],
   "source": [
    "# client.close()"
   ]
  },
  {
   "cell_type": "markdown",
   "metadata": {},
   "source": [
    "# Fi, evaluate, criticise - single dataset"
   ]
  },
  {
   "cell_type": "code",
   "execution_count": 49,
   "metadata": {},
   "outputs": [
    {
     "data": {
      "text/plain": [
       "<dask.config.set at 0x7f36d713e790>"
      ]
     },
     "execution_count": 49,
     "metadata": {},
     "output_type": "execute_result"
    }
   ],
   "source": [
    "import dask\n",
    "dask.config.config\n",
    "dask.config.set({\"distributed.admin.tick.limit\": \"120s\"})"
   ]
  },
  {
   "cell_type": "code",
   "execution_count": 50,
   "metadata": {},
   "outputs": [],
   "source": [
    "# cluster = LocalCluster(n_workers=2, threads_per_worker=4)"
   ]
  },
  {
   "cell_type": "code",
   "execution_count": 51,
   "metadata": {},
   "outputs": [],
   "source": [
    "# client = Client(cluster)"
   ]
  },
  {
   "cell_type": "code",
   "execution_count": 76,
   "metadata": {},
   "outputs": [
    {
     "name": "stderr",
     "output_type": "stream",
     "text": [
      "/dls/science/groups/i04-1/conor_dev/ccp4/base/lib/python2.7/site-packages/distributed/bokeh/core.py:74: UserWarning: \n",
      "Port 8787 is already in use. \n",
      "Perhaps you already have a cluster running?\n",
      "Hosting the diagnostics dashboard on a random port instead.\n",
      "  warnings.warn(\"\\n\" + msg)\n"
     ]
    }
   ],
   "source": [
    "cluster = SGECluster(queue=\"medium.q\",\n",
    "                     cores=20,\n",
    "                     processes=5,\n",
    "                           memory=\"64GB\",\n",
    "                           resourcce_spec=\"m_mem_free=64G\",\n",
    "                    python=\"/dls/science/groups/i04-1/conor_dev/ccp4/build/bin/cctbx.python\",\n",
    "                    walltime=\"01:00:00\")"
   ]
  },
  {
   "cell_type": "code",
   "execution_count": 77,
   "metadata": {},
   "outputs": [],
   "source": [
    "cluster.scale(5)"
   ]
  },
  {
   "cell_type": "code",
   "execution_count": 78,
   "metadata": {},
   "outputs": [],
   "source": [
    "client = Client(cluster)"
   ]
  },
  {
   "cell_type": "code",
   "execution_count": 81,
   "metadata": {},
   "outputs": [
    {
     "data": {
      "text/html": [
       "<table style=\"border: 2px solid white;\">\n",
       "<tr>\n",
       "<td style=\"vertical-align: top; border: 0px solid white\">\n",
       "<h3>Client</h3>\n",
       "<ul>\n",
       "  <li><b>Scheduler: </b>tcp://172.23.159.5:42513\n",
       "  <li><b>Dashboard: </b><a href='http://172.23.159.5:41761/status' target='_blank'>http://172.23.159.5:41761/status</a>\n",
       "</ul>\n",
       "</td>\n",
       "<td style=\"vertical-align: top; border: 0px solid white\">\n",
       "<h3>Cluster</h3>\n",
       "<ul>\n",
       "  <li><b>Workers: </b>5</li>\n",
       "  <li><b>Cores: </b>20</li>\n",
       "  <li><b>Memory: </b>64.00 GB</li>\n",
       "</ul>\n",
       "</td>\n",
       "</tr>\n",
       "</table>"
      ],
      "text/plain": [
       "<Client: scheduler='tcp://172.23.159.5:42513' processes=5 cores=20>"
      ]
     },
     "execution_count": 81,
     "metadata": {},
     "output_type": "execute_result"
    }
   ],
   "source": [
    "client"
   ]
  },
  {
   "cell_type": "code",
   "execution_count": 82,
   "metadata": {},
   "outputs": [],
   "source": [
    "# Main Loop\n",
    "dataloader = DefaultPanDDADataloader(min_train_datasets=60, \n",
    "                                     max_test_datasets=60)\n"
   ]
  },
  {
   "cell_type": "code",
   "execution_count": 83,
   "metadata": {
    "scrolled": true
   },
   "outputs": [
    {
     "name": "stdout",
     "output_type": "stream",
     "text": [
      "Got all train datasets\n",
      "Sorted datasets\n",
      "Collected trian datasets\n",
      "Got all test datasets\n",
      "sorted test datasets\n",
      "yielding dataset\n",
      "Dataset 0 of length 60; res limits (2.13786674777,2.13786674777)\n",
      "yielding dataset\n",
      "Dataset 1 of length 111; res limits (2.13849713107,2.23009496576)\n",
      "yielding dataset\n",
      "Dataset 2 of length 120; res limits (2.23981287927,2.31509360885)\n",
      "yielding dataset\n",
      "Dataset 3 of length 120; res limits (2.31816393209,2.3755079232)\n",
      "yielding dataset\n",
      "Dataset 4 of length 120; res limits (2.37600830711,2.45904047421)\n",
      "yielding dataset\n",
      "Dataset 5 of length 120; res limits (2.45982275972,2.5285230784)\n",
      "yielding dataset\n",
      "Dataset 6 of length 120; res limits (2.5290507321,2.58989421755)\n",
      "yielding dataset\n",
      "Dataset 7 of length 120; res limits (2.59023952047,2.64984944033)\n",
      "yielding dataset\n",
      "Dataset 8 of length 120; res limits (2.64990070685,2.71924167548)\n",
      "yielding dataset\n",
      "Dataset 9 of length 120; res limits (2.71972848577,2.78869368508)\n",
      "yielding dataset\n",
      "Dataset 10 of length 117; res limits (2.78887056265,2.87976295241)\n",
      "yielding dataset\n",
      "Dataset 11 of length 91; res limits (2.88901749955,2.98010309037)\n",
      "yielding dataset\n",
      "Dataset 12 of length 90; res limits (2.98955575049,3.08028773858)\n",
      "yielding dataset\n",
      "Dataset 13 of length 79; res limits (3.09027284951,3.1891636924)\n",
      "yielding dataset\n",
      "Dataset 14 of length 82; res limits (3.1997746183,3.29073119246)\n",
      "yielding dataset\n",
      "Dataset 15 of length 66; res limits (3.30096543159,3.38923478332)\n",
      "yielding dataset\n",
      "Dataset 16 of length 70; res limits (3.41049048277,3.50056559547)\n",
      "yielding dataset\n",
      "Dataset 17 of length 61; res limits (3.76983984191,3.76983984191)\n"
     ]
    }
   ],
   "source": [
    "ds = [(idx, d) for idx, d in dataloader(dataset)]"
   ]
  },
  {
   "cell_type": "code",
   "execution_count": 84,
   "metadata": {},
   "outputs": [],
   "source": [
    "# Get base distributed model\n",
    "pandda_event_model_distributed = PanDDAEventModelDistributed(pandda_config.statistical_model,\n",
    "                                      pandda_config.clusterer,\n",
    "                                      pandda_config.event_finder,\n",
    "                                        dataset=dataset,\n",
    "                                      bdc_calculator=pandda_config.bdc_calculator,\n",
    "                                      statistics=[],\n",
    "                                      map_maker=pandda_config.map_maker, \n",
    "                                      event_table_maker=pandda_config.event_table_maker,\n",
    "                                      cpus=config[\"args\"][\"cpus\"],\n",
    "                                      tree=tree)"
   ]
  },
  {
   "cell_type": "code",
   "execution_count": 85,
   "metadata": {},
   "outputs": [],
   "source": [
    "# pandda_event_model_distributed.instantiate(reference,\n",
    "#                                            tree)"
   ]
  },
  {
   "cell_type": "code",
   "execution_count": 86,
   "metadata": {
    "scrolled": true
   },
   "outputs": [
    {
     "name": "stdout",
     "output_type": "stream",
     "text": [
      "[Errno 17] File exists: '/dls/science/groups/i04-1/conor_dev/pandda/refactored_test_dir/0'\n",
      "[Errno 17] File exists: '/dls/science/groups/i04-1/conor_dev/pandda/refactored_test_dir/1'\n",
      "[Errno 17] File exists: '/dls/science/groups/i04-1/conor_dev/pandda/refactored_test_dir/2'\n",
      "[Errno 17] File exists: '/dls/science/groups/i04-1/conor_dev/pandda/refactored_test_dir/3'\n",
      "[Errno 17] File exists: '/dls/science/groups/i04-1/conor_dev/pandda/refactored_test_dir/4'\n",
      "[Errno 17] File exists: '/dls/science/groups/i04-1/conor_dev/pandda/refactored_test_dir/5'\n",
      "[Errno 17] File exists: '/dls/science/groups/i04-1/conor_dev/pandda/refactored_test_dir/6'\n",
      "[Errno 17] File exists: '/dls/science/groups/i04-1/conor_dev/pandda/refactored_test_dir/7'\n",
      "[Errno 17] File exists: '/dls/science/groups/i04-1/conor_dev/pandda/refactored_test_dir/8'\n",
      "[Errno 17] File exists: '/dls/science/groups/i04-1/conor_dev/pandda/refactored_test_dir/9'\n",
      "[Errno 17] File exists: '/dls/science/groups/i04-1/conor_dev/pandda/refactored_test_dir/10'\n",
      "[Errno 17] File exists: '/dls/science/groups/i04-1/conor_dev/pandda/refactored_test_dir/11'\n",
      "[Errno 17] File exists: '/dls/science/groups/i04-1/conor_dev/pandda/refactored_test_dir/12'\n",
      "[Errno 17] File exists: '/dls/science/groups/i04-1/conor_dev/pandda/refactored_test_dir/13'\n",
      "[Errno 17] File exists: '/dls/science/groups/i04-1/conor_dev/pandda/refactored_test_dir/14'\n",
      "[Errno 17] File exists: '/dls/science/groups/i04-1/conor_dev/pandda/refactored_test_dir/15'\n",
      "[Errno 17] File exists: '/dls/science/groups/i04-1/conor_dev/pandda/refactored_test_dir/16'\n",
      "[Errno 17] File exists: '/dls/science/groups/i04-1/conor_dev/pandda/refactored_test_dir/17'\n"
     ]
    }
   ],
   "source": [
    "# Instantiate models\n",
    "models = [pandda_event_model_distributed.clone(dataset=d, \n",
    "                                   name=idx)\n",
    "         for idx, d\n",
    "         in ds]"
   ]
  },
  {
   "cell_type": "code",
   "execution_count": 87,
   "metadata": {},
   "outputs": [],
   "source": [
    "# Load model moponents\n",
    "# model_loaded = load(models[0])"
   ]
  },
  {
   "cell_type": "code",
   "execution_count": 88,
   "metadata": {},
   "outputs": [
    {
     "name": "stdout",
     "output_type": "stream",
     "text": [
      "0\n"
     ]
    }
   ],
   "source": [
    "dsk = {}\n",
    "\n",
    "# loop over model blocks\n",
    "for model in models:\n",
    "    # Get model name\n",
    "    name = str(model.name)\n",
    "    print(name)\n",
    "    \n",
    "    # Get dataset\n",
    "    dtags = set(model.dataset.partition_datasets(\"test\").keys()\n",
    "                    + model.dataset.partition_datasets(\"train\").keys()\n",
    "                    )\n",
    "    \n",
    "    # Get resolution\n",
    "    resolutions_test = max([d.data.summary.high_res for dtag, d\n",
    "                                in model.dataset.partition_datasets(\"test\").items()])\n",
    "    resolutions_train = max([d.data.summary.high_res for dtag, d\n",
    "                                 in model.dataset.partition_datasets(\"train\").items()])\n",
    "    max_res = max(resolutions_test, resolutions_train)\n",
    "    \n",
    "    dsk[\"{}_model\".format(name)] = model\n",
    "    dsk[\"reference\"] = reference\n",
    "    dsk[\"tree\"] = tree\n",
    "    \n",
    "        # Load datasets\n",
    "    for dtag in dtags:\n",
    "        dsk[\"{}\".format(dtag.replace(\"-\", \"_\"))] = model.dataset.datasets[dtag]\n",
    "    \n",
    "    # Load model\n",
    "#     dsk[\"{}_loaded_model\".format(name)] = (lambda m, r, t: m.instantiate(r, t),\n",
    "#                                                        \"{}_model\".format(name),\n",
    "#                                                         \"reference\",\n",
    "#                                                         \"tree\"\n",
    "#                                                       )\n",
    "    dsk[\"{}_loaded_model\".format(name)] = model.instantiate(reference, tree)\n",
    "    \n",
    "    dsk[\"{}_max_res\".format(name)] = max_res\n",
    "    \n",
    "        # Get sample loader\n",
    "    sample_loader = model.dataset.sample_loader\n",
    "    dsk[\"{}_sample_loader\".format(name)] = (lambda m: m.dataset.sample_loader,\n",
    "                                            \"{}_loaded_model\".format(name)\n",
    "                                           )\n",
    "    \n",
    "    # ref map\n",
    "    dsk[\"{}_ref_map\".format(name)] = (lambda sl: sl.ref_map,\n",
    "                                     \"{}_sample_loader\".format(name))\n",
    "    \n",
    "    # Load maps\n",
    "    for dtag in dtags:\n",
    "        dsk[\"{}_{}_map\".format(name, dtag.replace(\"-\", \"_\"))] = (lambda sl, r, _d: sl.get_sample(r, _d), \n",
    "                                               \"{}_sample_loader\".format(name),\n",
    "                                               \"{}_max_res\".format(name), \n",
    "                                               \"{}\".format(dtag.replace(\"-\", \"_\")))\n",
    "    \n",
    "    # Fit model\n",
    "    dsk[\"{}_fit_model\".format(name)] = (lambda m, train, test: m.fit(train, test),\n",
    "                           \"{}_loaded_model\".format(name), \n",
    "                             [\"{}_{}_map\".format(name, dtag.replace(\"-\", \"_\")) for dtag, d in model.dataset.partition_datasets(\"train\").items()], \n",
    "                             [\"{}_{}_map\".format(name, dtag.replace(\"-\", \"_\")) for dtag, d in model.dataset.partition_datasets(\"test\").items()]\n",
    "                          )\n",
    "    \n",
    "    # Find events\n",
    "    for dtag in dtags:\n",
    "        d = \"{}\".format(dtag.replace(\"-\",\"_\"))\n",
    "        dsk[\"{}_{}_events\".format(name, dtag.replace(\"-\",\"_\"))]  = (lambda m, s, _d, ref: m.evaluate_single(s, _d, ref),\n",
    "                                                   \"{}_fit_model\".format(name),\n",
    "                                                   \"{}_{}_map\".format(name, dtag.replace(\"-\",\"_\")),\n",
    "                                                   d,\n",
    "                                                   \"{}_ref_map\".format(name)\n",
    "                                                  )\n",
    "    \n",
    "    # Criticise\n",
    "    for dtag in dtags:\n",
    "        d = \"{}\".format(dtag)\n",
    "        dsk[\"{}_{}_event_table\".format(name, dtag.replace(\"-\",\"_\"))] = (lambda m, _d, e: m.criticise_single(_d, e),\n",
    "                                                       \"{}_fit_model\".format(name),\n",
    "                                                       d,\n",
    "                                                       \"{}_{}_events\".format(name, dtag.replace(\"-\",\"_\"))\n",
    "                                                      )\n",
    "    \n",
    "    # Join\n",
    "    dsk[\"{}_event_table\".format(name)] = (lambda m, et: m.criticise_all(et),\n",
    "                            \"{}_fit_model\".format(name),\n",
    "                            [\"{}_{}_events\".format(name, dtag.replace(\"-\",\"_\")) for dtag in dtags])\n",
    "    break\n",
    "    "
   ]
  },
  {
   "cell_type": "code",
   "execution_count": 89,
   "metadata": {},
   "outputs": [],
   "source": [
    "# dsk[\"0_loaded_model\"]"
   ]
  },
  {
   "cell_type": "code",
   "execution_count": 90,
   "metadata": {},
   "outputs": [],
   "source": [
    "# client.get(dsk, \"0_loaded_model\")"
   ]
  },
  {
   "cell_type": "code",
   "execution_count": 91,
   "metadata": {},
   "outputs": [],
   "source": [
    "# dsk[\"0_sample_loader\"]"
   ]
  },
  {
   "cell_type": "code",
   "execution_count": 92,
   "metadata": {},
   "outputs": [],
   "source": [
    "# client.get(dsk, \"0_sample_loader\")"
   ]
  },
  {
   "cell_type": "code",
   "execution_count": 93,
   "metadata": {},
   "outputs": [],
   "source": [
    "# client.get(dsk, \"0_max_res\")"
   ]
  },
  {
   "cell_type": "code",
   "execution_count": 94,
   "metadata": {},
   "outputs": [],
   "source": [
    "# client.get(dsk, \"PDK2_x0384\")"
   ]
  },
  {
   "cell_type": "code",
   "execution_count": 95,
   "metadata": {},
   "outputs": [],
   "source": [
    "# dsk[\"0_PDK2_x0384_map\"]"
   ]
  },
  {
   "cell_type": "code",
   "execution_count": 96,
   "metadata": {},
   "outputs": [],
   "source": [
    "# client.get(dsk, \"0_PDK2_x0384_map\")"
   ]
  },
  {
   "cell_type": "code",
   "execution_count": 97,
   "metadata": {},
   "outputs": [
    {
     "data": {
      "text/plain": [
       "(<function __main__.<lambda>>,\n",
       " '0_loaded_model',\n",
       " ['0_PDK2_x0739_map',\n",
       "  '0_PDK2_x0422_map',\n",
       "  '0_PDK2_x0812_map',\n",
       "  '0_PDK2_x0815_map',\n",
       "  '0_PDK2_x0219_map',\n",
       "  '0_PDK2_x0817_map',\n",
       "  '0_PDK2_x0819_map',\n",
       "  '0_PDK2_x0407_map',\n",
       "  '0_PDK2_x0526_map',\n",
       "  '0_PDK2_x0187_map',\n",
       "  '0_PDK2_x0329_map',\n",
       "  '0_PDK2_x0736_map',\n",
       "  '0_PDK2_x0522_map',\n",
       "  '0_PDK2_x0081_map',\n",
       "  '0_PDK2_x0446_map',\n",
       "  '0_PDK2_x0087_map',\n",
       "  '0_PDK2_x0710_map',\n",
       "  '0_PDK2_x0891_map',\n",
       "  '0_PDK2_x0008_map',\n",
       "  '0_PDK2_x0100_map',\n",
       "  '0_PDK2_x0383_map',\n",
       "  '0_PDK2_x0021_map',\n",
       "  '0_PDK2_x0387_map',\n",
       "  '0_PDK2_x0386_map',\n",
       "  '0_PDK2_x0861_map',\n",
       "  '0_PDK2_x0352_map',\n",
       "  '0_PDK2_x0865_map',\n",
       "  '0_PDK2_x0848_map',\n",
       "  '0_PDK2_x0849_map',\n",
       "  '0_PDK2_x0384_map',\n",
       "  '0_PDK2_x0510_map',\n",
       "  '0_PDK2_x0513_map',\n",
       "  '0_PDK2_x0516_map',\n",
       "  '0_PDK2_x0517_map',\n",
       "  '0_PDK2_x0537_map',\n",
       "  '0_PDK2_x0808_map',\n",
       "  '0_PDK2_x0644_map',\n",
       "  '0_PDK2_x0645_map',\n",
       "  '0_PDK2_x0555_map',\n",
       "  '0_PDK2_x0760_map',\n",
       "  '0_PDK2_x0802_map',\n",
       "  '0_PDK2_x0574_map',\n",
       "  '0_PDK2_x0832_map',\n",
       "  '0_PDK2_x0883_map',\n",
       "  '0_PDK2_x0620_map',\n",
       "  '0_PDK2_x0621_map',\n",
       "  '0_PDK2_x0071_map',\n",
       "  '0_PDK2_x0033_map',\n",
       "  '0_PDK2_x0138_map',\n",
       "  '0_PDK2_x0214_map',\n",
       "  '0_PDK2_x0173_map',\n",
       "  '0_PDK2_x0492_map',\n",
       "  '0_PDK2_x0712_map',\n",
       "  '0_PDK2_x0012_map',\n",
       "  '0_PDK2_x0275_map',\n",
       "  '0_PDK2_x0395_map',\n",
       "  '0_PDK2_x0839_map',\n",
       "  '0_PDK2_x0190_map',\n",
       "  '0_PDK2_x0828_map',\n",
       "  '0_PDK2_x0695_map'],\n",
       " ['0_PDK2_x0739_map',\n",
       "  '0_PDK2_x0422_map',\n",
       "  '0_PDK2_x0812_map',\n",
       "  '0_PDK2_x0815_map',\n",
       "  '0_PDK2_x0219_map',\n",
       "  '0_PDK2_x0817_map',\n",
       "  '0_PDK2_x0819_map',\n",
       "  '0_PDK2_x0407_map',\n",
       "  '0_PDK2_x0526_map',\n",
       "  '0_PDK2_x0187_map',\n",
       "  '0_PDK2_x0329_map',\n",
       "  '0_PDK2_x0736_map',\n",
       "  '0_PDK2_x0522_map',\n",
       "  '0_PDK2_x0081_map',\n",
       "  '0_PDK2_x0446_map',\n",
       "  '0_PDK2_x0087_map',\n",
       "  '0_PDK2_x0710_map',\n",
       "  '0_PDK2_x0891_map',\n",
       "  '0_PDK2_x0008_map',\n",
       "  '0_PDK2_x0100_map',\n",
       "  '0_PDK2_x0383_map',\n",
       "  '0_PDK2_x0021_map',\n",
       "  '0_PDK2_x0387_map',\n",
       "  '0_PDK2_x0386_map',\n",
       "  '0_PDK2_x0861_map',\n",
       "  '0_PDK2_x0352_map',\n",
       "  '0_PDK2_x0865_map',\n",
       "  '0_PDK2_x0848_map',\n",
       "  '0_PDK2_x0849_map',\n",
       "  '0_PDK2_x0384_map',\n",
       "  '0_PDK2_x0510_map',\n",
       "  '0_PDK2_x0513_map',\n",
       "  '0_PDK2_x0516_map',\n",
       "  '0_PDK2_x0517_map',\n",
       "  '0_PDK2_x0537_map',\n",
       "  '0_PDK2_x0808_map',\n",
       "  '0_PDK2_x0644_map',\n",
       "  '0_PDK2_x0645_map',\n",
       "  '0_PDK2_x0555_map',\n",
       "  '0_PDK2_x0760_map',\n",
       "  '0_PDK2_x0802_map',\n",
       "  '0_PDK2_x0574_map',\n",
       "  '0_PDK2_x0832_map',\n",
       "  '0_PDK2_x0883_map',\n",
       "  '0_PDK2_x0620_map',\n",
       "  '0_PDK2_x0621_map',\n",
       "  '0_PDK2_x0071_map',\n",
       "  '0_PDK2_x0033_map',\n",
       "  '0_PDK2_x0138_map',\n",
       "  '0_PDK2_x0214_map',\n",
       "  '0_PDK2_x0173_map',\n",
       "  '0_PDK2_x0492_map',\n",
       "  '0_PDK2_x0712_map',\n",
       "  '0_PDK2_x0012_map',\n",
       "  '0_PDK2_x0275_map',\n",
       "  '0_PDK2_x0395_map',\n",
       "  '0_PDK2_x0839_map',\n",
       "  '0_PDK2_x0190_map',\n",
       "  '0_PDK2_x0828_map',\n",
       "  '0_PDK2_x0695_map'])"
      ]
     },
     "execution_count": 97,
     "metadata": {},
     "output_type": "execute_result"
    }
   ],
   "source": [
    "dsk[\"0_fit_model\"]"
   ]
  },
  {
   "cell_type": "code",
   "execution_count": 98,
   "metadata": {},
   "outputs": [
    {
     "data": {
      "text/plain": [
       "<pandda_analyse.event_model_distributed.PanDDAEventModelDistributed instance at 0x7f3664455290>"
      ]
     },
     "execution_count": 98,
     "metadata": {},
     "output_type": "execute_result"
    }
   ],
   "source": [
    "client.get(dsk, \"0_fit_model\")"
   ]
  },
  {
   "cell_type": "code",
   "execution_count": 99,
   "metadata": {},
   "outputs": [
    {
     "data": {
      "text/plain": [
       "(<function __main__.<lambda>>,\n",
       " '0_fit_model',\n",
       " '0_PDK2_x0384_map',\n",
       " 'PDK2_x0384',\n",
       " '0_ref_map')"
      ]
     },
     "execution_count": 99,
     "metadata": {},
     "output_type": "execute_result"
    }
   ],
   "source": [
    "dsk[\"0_PDK2_x0384_events\"]"
   ]
  },
  {
   "cell_type": "code",
   "execution_count": 100,
   "metadata": {},
   "outputs": [
    {
     "ename": "AttributeError",
     "evalue": "'NoneType' object has no attribute 'global_mask'",
     "output_type": "error",
     "traceback": [
      "\u001b[0;31m---------------------------------------------------------------------------\u001b[0m",
      "\u001b[0;31mAttributeError\u001b[0m                            Traceback (most recent call last)",
      "\u001b[0;32m<ipython-input-100-dc65a02f255a>\u001b[0m in \u001b[0;36m<module>\u001b[0;34m()\u001b[0m\n\u001b[0;32m----> 1\u001b[0;31m \u001b[0mclient\u001b[0m\u001b[0;34m.\u001b[0m\u001b[0mget\u001b[0m\u001b[0;34m(\u001b[0m\u001b[0mdsk\u001b[0m\u001b[0;34m,\u001b[0m \u001b[0;34m\"0_PDK2_x0384_events\"\u001b[0m\u001b[0;34m)\u001b[0m\u001b[0;34m\u001b[0m\u001b[0m\n\u001b[0m",
      "\u001b[0;32m/dls/science/groups/i04-1/conor_dev/ccp4/base/lib/python2.7/site-packages/distributed/client.pyc\u001b[0m in \u001b[0;36mget\u001b[0;34m(self, dsk, keys, restrictions, loose_restrictions, resources, sync, asynchronous, direct, retries, priority, fifo_timeout, actors, **kwargs)\u001b[0m\n\u001b[1;32m   2566\u001b[0m                     \u001b[0mshould_rejoin\u001b[0m \u001b[0;34m=\u001b[0m \u001b[0mFalse\u001b[0m\u001b[0;34m\u001b[0m\u001b[0m\n\u001b[1;32m   2567\u001b[0m             \u001b[0;32mtry\u001b[0m\u001b[0;34m:\u001b[0m\u001b[0;34m\u001b[0m\u001b[0m\n\u001b[0;32m-> 2568\u001b[0;31m                 \u001b[0mresults\u001b[0m \u001b[0;34m=\u001b[0m \u001b[0mself\u001b[0m\u001b[0;34m.\u001b[0m\u001b[0mgather\u001b[0m\u001b[0;34m(\u001b[0m\u001b[0mpacked\u001b[0m\u001b[0;34m,\u001b[0m \u001b[0masynchronous\u001b[0m\u001b[0;34m=\u001b[0m\u001b[0masynchronous\u001b[0m\u001b[0;34m,\u001b[0m \u001b[0mdirect\u001b[0m\u001b[0;34m=\u001b[0m\u001b[0mdirect\u001b[0m\u001b[0;34m)\u001b[0m\u001b[0;34m\u001b[0m\u001b[0m\n\u001b[0m\u001b[1;32m   2569\u001b[0m             \u001b[0;32mfinally\u001b[0m\u001b[0;34m:\u001b[0m\u001b[0;34m\u001b[0m\u001b[0m\n\u001b[1;32m   2570\u001b[0m                 \u001b[0;32mfor\u001b[0m \u001b[0mf\u001b[0m \u001b[0;32min\u001b[0m \u001b[0mfutures\u001b[0m\u001b[0;34m.\u001b[0m\u001b[0mvalues\u001b[0m\u001b[0;34m(\u001b[0m\u001b[0;34m)\u001b[0m\u001b[0;34m:\u001b[0m\u001b[0;34m\u001b[0m\u001b[0m\n",
      "\u001b[0;32m/dls/science/groups/i04-1/conor_dev/ccp4/base/lib/python2.7/site-packages/distributed/client.pyc\u001b[0m in \u001b[0;36mgather\u001b[0;34m(self, futures, errors, maxsize, direct, asynchronous)\u001b[0m\n\u001b[1;32m   1820\u001b[0m                 \u001b[0mdirect\u001b[0m\u001b[0;34m=\u001b[0m\u001b[0mdirect\u001b[0m\u001b[0;34m,\u001b[0m\u001b[0;34m\u001b[0m\u001b[0m\n\u001b[1;32m   1821\u001b[0m                 \u001b[0mlocal_worker\u001b[0m\u001b[0;34m=\u001b[0m\u001b[0mlocal_worker\u001b[0m\u001b[0;34m,\u001b[0m\u001b[0;34m\u001b[0m\u001b[0m\n\u001b[0;32m-> 1822\u001b[0;31m                 \u001b[0masynchronous\u001b[0m\u001b[0;34m=\u001b[0m\u001b[0masynchronous\u001b[0m\u001b[0;34m,\u001b[0m\u001b[0;34m\u001b[0m\u001b[0m\n\u001b[0m\u001b[1;32m   1823\u001b[0m             )\n\u001b[1;32m   1824\u001b[0m \u001b[0;34m\u001b[0m\u001b[0m\n",
      "\u001b[0;32m/dls/science/groups/i04-1/conor_dev/ccp4/base/lib/python2.7/site-packages/distributed/client.pyc\u001b[0m in \u001b[0;36msync\u001b[0;34m(self, func, *args, **kwargs)\u001b[0m\n\u001b[1;32m    751\u001b[0m             \u001b[0;32mreturn\u001b[0m \u001b[0mfuture\u001b[0m\u001b[0;34m\u001b[0m\u001b[0m\n\u001b[1;32m    752\u001b[0m         \u001b[0;32melse\u001b[0m\u001b[0;34m:\u001b[0m\u001b[0;34m\u001b[0m\u001b[0m\n\u001b[0;32m--> 753\u001b[0;31m             \u001b[0;32mreturn\u001b[0m \u001b[0msync\u001b[0m\u001b[0;34m(\u001b[0m\u001b[0mself\u001b[0m\u001b[0;34m.\u001b[0m\u001b[0mloop\u001b[0m\u001b[0;34m,\u001b[0m \u001b[0mfunc\u001b[0m\u001b[0;34m,\u001b[0m \u001b[0;34m*\u001b[0m\u001b[0margs\u001b[0m\u001b[0;34m,\u001b[0m \u001b[0;34m**\u001b[0m\u001b[0mkwargs\u001b[0m\u001b[0;34m)\u001b[0m\u001b[0;34m\u001b[0m\u001b[0m\n\u001b[0m\u001b[1;32m    754\u001b[0m \u001b[0;34m\u001b[0m\u001b[0m\n\u001b[1;32m    755\u001b[0m     \u001b[0;32mdef\u001b[0m \u001b[0m__repr__\u001b[0m\u001b[0;34m(\u001b[0m\u001b[0mself\u001b[0m\u001b[0;34m)\u001b[0m\u001b[0;34m:\u001b[0m\u001b[0;34m\u001b[0m\u001b[0m\n",
      "\u001b[0;32m/dls/science/groups/i04-1/conor_dev/ccp4/base/lib/python2.7/site-packages/distributed/utils.pyc\u001b[0m in \u001b[0;36msync\u001b[0;34m(loop, func, *args, **kwargs)\u001b[0m\n\u001b[1;32m    329\u001b[0m             \u001b[0me\u001b[0m\u001b[0;34m.\u001b[0m\u001b[0mwait\u001b[0m\u001b[0;34m(\u001b[0m\u001b[0;36m10\u001b[0m\u001b[0;34m)\u001b[0m\u001b[0;34m\u001b[0m\u001b[0m\n\u001b[1;32m    330\u001b[0m     \u001b[0;32mif\u001b[0m \u001b[0merror\u001b[0m\u001b[0;34m[\u001b[0m\u001b[0;36m0\u001b[0m\u001b[0;34m]\u001b[0m\u001b[0;34m:\u001b[0m\u001b[0;34m\u001b[0m\u001b[0m\n\u001b[0;32m--> 331\u001b[0;31m         \u001b[0msix\u001b[0m\u001b[0;34m.\u001b[0m\u001b[0mreraise\u001b[0m\u001b[0;34m(\u001b[0m\u001b[0;34m*\u001b[0m\u001b[0merror\u001b[0m\u001b[0;34m[\u001b[0m\u001b[0;36m0\u001b[0m\u001b[0;34m]\u001b[0m\u001b[0;34m)\u001b[0m\u001b[0;34m\u001b[0m\u001b[0m\n\u001b[0m\u001b[1;32m    332\u001b[0m     \u001b[0;32melse\u001b[0m\u001b[0;34m:\u001b[0m\u001b[0;34m\u001b[0m\u001b[0m\n\u001b[1;32m    333\u001b[0m         \u001b[0;32mreturn\u001b[0m \u001b[0mresult\u001b[0m\u001b[0;34m[\u001b[0m\u001b[0;36m0\u001b[0m\u001b[0;34m]\u001b[0m\u001b[0;34m\u001b[0m\u001b[0m\n",
      "\u001b[0;32m/dls/science/groups/i04-1/conor_dev/ccp4/base/lib/python2.7/site-packages/distributed/utils.pyc\u001b[0m in \u001b[0;36mf\u001b[0;34m()\u001b[0m\n\u001b[1;32m    314\u001b[0m             \u001b[0;32mif\u001b[0m \u001b[0mtimeout\u001b[0m \u001b[0;32mis\u001b[0m \u001b[0;32mnot\u001b[0m \u001b[0mNone\u001b[0m\u001b[0;34m:\u001b[0m\u001b[0;34m\u001b[0m\u001b[0m\n\u001b[1;32m    315\u001b[0m                 \u001b[0mfuture\u001b[0m \u001b[0;34m=\u001b[0m \u001b[0mgen\u001b[0m\u001b[0;34m.\u001b[0m\u001b[0mwith_timeout\u001b[0m\u001b[0;34m(\u001b[0m\u001b[0mtimedelta\u001b[0m\u001b[0;34m(\u001b[0m\u001b[0mseconds\u001b[0m\u001b[0;34m=\u001b[0m\u001b[0mtimeout\u001b[0m\u001b[0;34m)\u001b[0m\u001b[0;34m,\u001b[0m \u001b[0mfuture\u001b[0m\u001b[0;34m)\u001b[0m\u001b[0;34m\u001b[0m\u001b[0m\n\u001b[0;32m--> 316\u001b[0;31m             \u001b[0mresult\u001b[0m\u001b[0;34m[\u001b[0m\u001b[0;36m0\u001b[0m\u001b[0;34m]\u001b[0m \u001b[0;34m=\u001b[0m \u001b[0;32myield\u001b[0m \u001b[0mfuture\u001b[0m\u001b[0;34m\u001b[0m\u001b[0m\n\u001b[0m\u001b[1;32m    317\u001b[0m         \u001b[0;32mexcept\u001b[0m \u001b[0mException\u001b[0m \u001b[0;32mas\u001b[0m \u001b[0mexc\u001b[0m\u001b[0;34m:\u001b[0m\u001b[0;34m\u001b[0m\u001b[0m\n\u001b[1;32m    318\u001b[0m             \u001b[0merror\u001b[0m\u001b[0;34m[\u001b[0m\u001b[0;36m0\u001b[0m\u001b[0;34m]\u001b[0m \u001b[0;34m=\u001b[0m \u001b[0msys\u001b[0m\u001b[0;34m.\u001b[0m\u001b[0mexc_info\u001b[0m\u001b[0;34m(\u001b[0m\u001b[0;34m)\u001b[0m\u001b[0;34m\u001b[0m\u001b[0m\n",
      "\u001b[0;32m/dls/science/groups/i04-1/conor_dev/ccp4/base/lib/python2.7/site-packages/tornado/gen.pyc\u001b[0m in \u001b[0;36mrun\u001b[0;34m(self)\u001b[0m\n\u001b[1;32m   1131\u001b[0m \u001b[0;34m\u001b[0m\u001b[0m\n\u001b[1;32m   1132\u001b[0m                     \u001b[0;32mtry\u001b[0m\u001b[0;34m:\u001b[0m\u001b[0;34m\u001b[0m\u001b[0m\n\u001b[0;32m-> 1133\u001b[0;31m                         \u001b[0mvalue\u001b[0m \u001b[0;34m=\u001b[0m \u001b[0mfuture\u001b[0m\u001b[0;34m.\u001b[0m\u001b[0mresult\u001b[0m\u001b[0;34m(\u001b[0m\u001b[0;34m)\u001b[0m\u001b[0;34m\u001b[0m\u001b[0m\n\u001b[0m\u001b[1;32m   1134\u001b[0m                     \u001b[0;32mexcept\u001b[0m \u001b[0mException\u001b[0m\u001b[0;34m:\u001b[0m\u001b[0;34m\u001b[0m\u001b[0m\n\u001b[1;32m   1135\u001b[0m                         \u001b[0mself\u001b[0m\u001b[0;34m.\u001b[0m\u001b[0mhad_exception\u001b[0m \u001b[0;34m=\u001b[0m \u001b[0mTrue\u001b[0m\u001b[0;34m\u001b[0m\u001b[0m\n",
      "\u001b[0;32m/dls/science/groups/i04-1/conor_dev/ccp4/base/lib/python2.7/site-packages/tornado/concurrent.pyc\u001b[0m in \u001b[0;36mresult\u001b[0;34m(self, timeout)\u001b[0m\n\u001b[1;32m    259\u001b[0m         \u001b[0;32mif\u001b[0m \u001b[0mself\u001b[0m\u001b[0;34m.\u001b[0m\u001b[0m_exc_info\u001b[0m \u001b[0;32mis\u001b[0m \u001b[0;32mnot\u001b[0m \u001b[0mNone\u001b[0m\u001b[0;34m:\u001b[0m\u001b[0;34m\u001b[0m\u001b[0m\n\u001b[1;32m    260\u001b[0m             \u001b[0;32mtry\u001b[0m\u001b[0;34m:\u001b[0m\u001b[0;34m\u001b[0m\u001b[0m\n\u001b[0;32m--> 261\u001b[0;31m                 \u001b[0mraise_exc_info\u001b[0m\u001b[0;34m(\u001b[0m\u001b[0mself\u001b[0m\u001b[0;34m.\u001b[0m\u001b[0m_exc_info\u001b[0m\u001b[0;34m)\u001b[0m\u001b[0;34m\u001b[0m\u001b[0m\n\u001b[0m\u001b[1;32m    262\u001b[0m             \u001b[0;32mfinally\u001b[0m\u001b[0;34m:\u001b[0m\u001b[0;34m\u001b[0m\u001b[0m\n\u001b[1;32m    263\u001b[0m                 \u001b[0mself\u001b[0m \u001b[0;34m=\u001b[0m \u001b[0mNone\u001b[0m\u001b[0;34m\u001b[0m\u001b[0m\n",
      "\u001b[0;32m/dls/science/groups/i04-1/conor_dev/ccp4/base/lib/python2.7/site-packages/tornado/gen.pyc\u001b[0m in \u001b[0;36mrun\u001b[0;34m(self)\u001b[0m\n\u001b[1;32m   1139\u001b[0m                     \u001b[0;32mif\u001b[0m \u001b[0mexc_info\u001b[0m \u001b[0;32mis\u001b[0m \u001b[0;32mnot\u001b[0m \u001b[0mNone\u001b[0m\u001b[0;34m:\u001b[0m\u001b[0;34m\u001b[0m\u001b[0m\n\u001b[1;32m   1140\u001b[0m                         \u001b[0;32mtry\u001b[0m\u001b[0;34m:\u001b[0m\u001b[0;34m\u001b[0m\u001b[0m\n\u001b[0;32m-> 1141\u001b[0;31m                             \u001b[0myielded\u001b[0m \u001b[0;34m=\u001b[0m \u001b[0mself\u001b[0m\u001b[0;34m.\u001b[0m\u001b[0mgen\u001b[0m\u001b[0;34m.\u001b[0m\u001b[0mthrow\u001b[0m\u001b[0;34m(\u001b[0m\u001b[0;34m*\u001b[0m\u001b[0mexc_info\u001b[0m\u001b[0;34m)\u001b[0m\u001b[0;34m\u001b[0m\u001b[0m\n\u001b[0m\u001b[1;32m   1142\u001b[0m                         \u001b[0;32mfinally\u001b[0m\u001b[0;34m:\u001b[0m\u001b[0;34m\u001b[0m\u001b[0m\n\u001b[1;32m   1143\u001b[0m                             \u001b[0;31m# Break up a reference to itself\u001b[0m\u001b[0;34m\u001b[0m\u001b[0;34m\u001b[0m\u001b[0m\n",
      "\u001b[0;32m/dls/science/groups/i04-1/conor_dev/ccp4/base/lib/python2.7/site-packages/distributed/client.pyc\u001b[0m in \u001b[0;36m_gather\u001b[0;34m(self, futures, errors, direct, local_worker)\u001b[0m\n\u001b[1;32m   1651\u001b[0m                             \u001b[0msix\u001b[0m\u001b[0;34m.\u001b[0m\u001b[0mreraise\u001b[0m\u001b[0;34m(\u001b[0m\u001b[0mCancelledError\u001b[0m\u001b[0;34m,\u001b[0m \u001b[0mCancelledError\u001b[0m\u001b[0;34m(\u001b[0m\u001b[0mkey\u001b[0m\u001b[0;34m)\u001b[0m\u001b[0;34m,\u001b[0m \u001b[0mNone\u001b[0m\u001b[0;34m)\u001b[0m\u001b[0;34m\u001b[0m\u001b[0m\n\u001b[1;32m   1652\u001b[0m                         \u001b[0;32melse\u001b[0m\u001b[0;34m:\u001b[0m\u001b[0;34m\u001b[0m\u001b[0m\n\u001b[0;32m-> 1653\u001b[0;31m                             \u001b[0msix\u001b[0m\u001b[0;34m.\u001b[0m\u001b[0mreraise\u001b[0m\u001b[0;34m(\u001b[0m\u001b[0mtype\u001b[0m\u001b[0;34m(\u001b[0m\u001b[0mexception\u001b[0m\u001b[0;34m)\u001b[0m\u001b[0;34m,\u001b[0m \u001b[0mexception\u001b[0m\u001b[0;34m,\u001b[0m \u001b[0mtraceback\u001b[0m\u001b[0;34m)\u001b[0m\u001b[0;34m\u001b[0m\u001b[0m\n\u001b[0m\u001b[1;32m   1654\u001b[0m                     \u001b[0;32mif\u001b[0m \u001b[0merrors\u001b[0m \u001b[0;34m==\u001b[0m \u001b[0;34m\"skip\"\u001b[0m\u001b[0;34m:\u001b[0m\u001b[0;34m\u001b[0m\u001b[0m\n\u001b[1;32m   1655\u001b[0m                         \u001b[0mbad_keys\u001b[0m\u001b[0;34m.\u001b[0m\u001b[0madd\u001b[0m\u001b[0;34m(\u001b[0m\u001b[0mkey\u001b[0m\u001b[0;34m)\u001b[0m\u001b[0;34m\u001b[0m\u001b[0m\n",
      "\u001b[0;32m<ipython-input-88-b06099a5ac11>\u001b[0m in \u001b[0;36m<lambda>\u001b[0;34m()\u001b[0m\n\u001b[1;32m     64\u001b[0m     \u001b[0;32mfor\u001b[0m \u001b[0mdtag\u001b[0m \u001b[0;32min\u001b[0m \u001b[0mdtags\u001b[0m\u001b[0;34m:\u001b[0m\u001b[0;34m\u001b[0m\u001b[0m\n\u001b[1;32m     65\u001b[0m         \u001b[0md\u001b[0m \u001b[0;34m=\u001b[0m \u001b[0;34m\"{}\"\u001b[0m\u001b[0;34m.\u001b[0m\u001b[0mformat\u001b[0m\u001b[0;34m(\u001b[0m\u001b[0mdtag\u001b[0m\u001b[0;34m.\u001b[0m\u001b[0mreplace\u001b[0m\u001b[0;34m(\u001b[0m\u001b[0;34m\"-\"\u001b[0m\u001b[0;34m,\u001b[0m\u001b[0;34m\"_\"\u001b[0m\u001b[0;34m)\u001b[0m\u001b[0;34m)\u001b[0m\u001b[0;34m\u001b[0m\u001b[0m\n\u001b[0;32m---> 66\u001b[0;31m         dsk[\"{}_{}_events\".format(name, dtag.replace(\"-\",\"_\"))]  = (lambda m, s, _d, ref: m.evaluate_single(s, _d, ref),\n\u001b[0m\u001b[1;32m     67\u001b[0m                                                    \u001b[0;34m\"{}_fit_model\"\u001b[0m\u001b[0;34m.\u001b[0m\u001b[0mformat\u001b[0m\u001b[0;34m(\u001b[0m\u001b[0mname\u001b[0m\u001b[0;34m)\u001b[0m\u001b[0;34m,\u001b[0m\u001b[0;34m\u001b[0m\u001b[0m\n\u001b[1;32m     68\u001b[0m                                                    \u001b[0;34m\"{}_{}_map\"\u001b[0m\u001b[0;34m.\u001b[0m\u001b[0mformat\u001b[0m\u001b[0;34m(\u001b[0m\u001b[0mname\u001b[0m\u001b[0;34m,\u001b[0m \u001b[0mdtag\u001b[0m\u001b[0;34m.\u001b[0m\u001b[0mreplace\u001b[0m\u001b[0;34m(\u001b[0m\u001b[0;34m\"-\"\u001b[0m\u001b[0;34m,\u001b[0m\u001b[0;34m\"_\"\u001b[0m\u001b[0;34m)\u001b[0m\u001b[0;34m)\u001b[0m\u001b[0;34m,\u001b[0m\u001b[0;34m\u001b[0m\u001b[0m\n",
      "\u001b[0;32m/dls/science/groups/i04-1/conor_dev/pandda/lib-python/pandda/pandda_analyse/pandda_analyse/event_model_distributed.pyc\u001b[0m in \u001b[0;36mevaluate_single\u001b[0;34m()\u001b[0m\n\u001b[1;32m    171\u001b[0m \u001b[0;34m\u001b[0m\u001b[0m\n\u001b[1;32m    172\u001b[0m         \u001b[0;32mprint\u001b[0m\u001b[0;34m(\u001b[0m\u001b[0;34m\"Clustering\"\u001b[0m\u001b[0;34m)\u001b[0m\u001b[0;34m\u001b[0m\u001b[0m\n\u001b[0;32m--> 173\u001b[0;31m         \u001b[0mclusters\u001b[0m \u001b[0;34m=\u001b[0m \u001b[0mself\u001b[0m\u001b[0;34m.\u001b[0m\u001b[0mclusterer\u001b[0m\u001b[0;34m(\u001b[0m\u001b[0mdataset\u001b[0m\u001b[0;34m,\u001b[0m \u001b[0mstatistical_map\u001b[0m\u001b[0;34m)\u001b[0m\u001b[0;34m\u001b[0m\u001b[0m\n\u001b[0m\u001b[1;32m    174\u001b[0m \u001b[0;34m\u001b[0m\u001b[0m\n\u001b[1;32m    175\u001b[0m         \u001b[0;32mprint\u001b[0m\u001b[0;34m(\u001b[0m\u001b[0;34m\"evaluating\"\u001b[0m\u001b[0;34m)\u001b[0m\u001b[0;34m\u001b[0m\u001b[0m\n",
      "\u001b[0;32m/dls/science/groups/i04-1/conor_dev/pandda/lib-python/pandda/pandda_analyse/pandda_analyse/event_model.pyc\u001b[0m in \u001b[0;36m__call__\u001b[0;34m()\u001b[0m\n\u001b[1;32m    674\u001b[0m         \u001b[0;31m# Extract the global mask object from the grid\u001b[0m\u001b[0;34m\u001b[0m\u001b[0;34m\u001b[0m\u001b[0m\n\u001b[1;32m    675\u001b[0m         \u001b[0;31m# ============================================================================>\u001b[0m\u001b[0;34m\u001b[0m\u001b[0;34m\u001b[0m\u001b[0m\n\u001b[0;32m--> 676\u001b[0;31m         \u001b[0mdset_total_temp\u001b[0m \u001b[0;34m=\u001b[0m \u001b[0mself\u001b[0m\u001b[0;34m.\u001b[0m\u001b[0mgrid\u001b[0m\u001b[0;34m.\u001b[0m\u001b[0mglobal_mask\u001b[0m\u001b[0;34m(\u001b[0m\u001b[0;34m)\u001b[0m\u001b[0;34m.\u001b[0m\u001b[0mtotal_mask_binary\u001b[0m\u001b[0;34m(\u001b[0m\u001b[0;34m)\u001b[0m\u001b[0;34m.\u001b[0m\u001b[0mcopy\u001b[0m\u001b[0;34m(\u001b[0m\u001b[0;34m)\u001b[0m\u001b[0;34m\u001b[0m\u001b[0m\n\u001b[0m\u001b[1;32m    677\u001b[0m \u001b[0;34m\u001b[0m\u001b[0m\n\u001b[1;32m    678\u001b[0m         \u001b[0;31m# ============================================================================>\u001b[0m\u001b[0;34m\u001b[0m\u001b[0;34m\u001b[0m\u001b[0m\n",
      "\u001b[0;31mAttributeError\u001b[0m: 'NoneType' object has no attribute 'global_mask'"
     ]
    }
   ],
   "source": [
    "client.get(dsk, \"0_PDK2_x0384_events\")"
   ]
  },
  {
   "cell_type": "code",
   "execution_count": null,
   "metadata": {},
   "outputs": [],
   "source": [
    "dsk[\"0_PDK2_x0384_event_table\"]"
   ]
  },
  {
   "cell_type": "code",
   "execution_count": null,
   "metadata": {},
   "outputs": [],
   "source": [
    "client.get(dsk, \"0_PDK2_x0384_event_table\")"
   ]
  },
  {
   "cell_type": "code",
   "execution_count": null,
   "metadata": {},
   "outputs": [],
   "source": [
    "dsk[\"0_event_table\"]"
   ]
  },
  {
   "cell_type": "code",
   "execution_count": null,
   "metadata": {},
   "outputs": [],
   "source": [
    "dsk[\"\"]"
   ]
  },
  {
   "cell_type": "code",
   "execution_count": null,
   "metadata": {},
   "outputs": [],
   "source": [
    "dsk[\"0_max_res\"]"
   ]
  },
  {
   "cell_type": "code",
   "execution_count": null,
   "metadata": {},
   "outputs": [],
   "source": [
    "dsk[\"PDK2-x0384\"]"
   ]
  },
  {
   "cell_type": "code",
   "execution_count": null,
   "metadata": {},
   "outputs": [],
   "source": []
  },
  {
   "cell_type": "code",
   "execution_count": null,
   "metadata": {},
   "outputs": [],
   "source": [
    "client.get(dsk, \"0_PDK2-x0384_map\")"
   ]
  },
  {
   "cell_type": "code",
   "execution_count": null,
   "metadata": {},
   "outputs": [],
   "source": [
    "client.get(dsk, \"0_event_table\")"
   ]
  },
  {
   "cell_type": "code",
   "execution_count": null,
   "metadata": {},
   "outputs": [],
   "source": [
    "client.get(dsk, )"
   ]
  },
  {
   "cell_type": "code",
   "execution_count": null,
   "metadata": {},
   "outputs": [],
   "source": [
    "# dsk[\"model_loaded\"] = model_loaded"
   ]
  },
  {
   "cell_type": "code",
   "execution_count": null,
   "metadata": {},
   "outputs": [],
   "source": [
    "dtags = set(model_loaded.dataset.partition_datasets(\"test\").keys()\n",
    "                    + model_loaded.dataset.partition_datasets(\"train\").keys()\n",
    "                    )"
   ]
  },
  {
   "cell_type": "code",
   "execution_count": null,
   "metadata": {},
   "outputs": [],
   "source": [
    "resolutions_test = max([d.data.summary.high_res for dtag, d\n",
    "                                in model_loaded.dataset.partition_datasets(\"test\").items()])\n",
    "resolutions_train = max([d.data.summary.high_res for dtag, d\n",
    "                                 in model_loaded.dataset.partition_datasets(\"train\").items()])\n",
    "max_res = max(resolutions_test, resolutions_train)\n",
    "\n"
   ]
  },
  {
   "cell_type": "code",
   "execution_count": null,
   "metadata": {},
   "outputs": [],
   "source": [
    "sample_loader = model_loaded.dataset.sample_loader"
   ]
  },
  {
   "cell_type": "code",
   "execution_count": null,
   "metadata": {},
   "outputs": [],
   "source": [
    "# sample_loaders = {dtag: lambda d: sample_loader.get_sample(res, d)\n",
    "#                           for dtag\n",
    "#                           in dtags}"
   ]
  },
  {
   "cell_type": "code",
   "execution_count": null,
   "metadata": {},
   "outputs": [],
   "source": [
    "for dtag in dtags:\n",
    "    dsk[dtag] = (sample_loader.get_sample, max_res, model_loaded.dataset.datasets[dtag])"
   ]
  },
  {
   "cell_type": "code",
   "execution_count": null,
   "metadata": {},
   "outputs": [],
   "source": [
    "dsk[\"params\"] = (model_loaded.statistical_model.fit, \n",
    "                 [dtag for dtag, d in model_loaded.dataset.partition_datasets(\"train\").items()], \n",
    "                 [dtag for dtag, d in model_loaded.dataset.partition_datasets(\"test\").items()])"
   ]
  },
  {
   "cell_type": "code",
   "execution_count": null,
   "metadata": {},
   "outputs": [],
   "source": [
    "dsk"
   ]
  },
  {
   "cell_type": "code",
   "execution_count": null,
   "metadata": {},
   "outputs": [],
   "source": [
    "params = client.get(dsk, \"params\")"
   ]
  },
  {
   "cell_type": "code",
   "execution_count": null,
   "metadata": {},
   "outputs": [],
   "source": [
    "# Load models over nodes\n",
    "model_fit = client.submit(fit, model_loaded)\n"
   ]
  },
  {
   "cell_type": "code",
   "execution_count": null,
   "metadata": {},
   "outputs": [],
   "source": [
    "model_fit.result()"
   ]
  },
  {
   "cell_type": "code",
   "execution_count": null,
   "metadata": {},
   "outputs": [],
   "source": [
    "# Ask models to process\n",
    "model_evaluated = evaluate(model_fit)\n"
   ]
  },
  {
   "cell_type": "code",
   "execution_count": null,
   "metadata": {},
   "outputs": [],
   "source": [
    "model_evaluated.result()"
   ]
  },
  {
   "cell_type": "code",
   "execution_count": null,
   "metadata": {},
   "outputs": [],
   "source": [
    "# Ask models to criticise\n",
    "event_tables = criticise(models_evaluated)\n"
   ]
  },
  {
   "cell_type": "code",
   "execution_count": null,
   "metadata": {},
   "outputs": [],
   "source": [
    "client.reset()"
   ]
  },
  {
   "cell_type": "code",
   "execution_count": null,
   "metadata": {},
   "outputs": [],
   "source": [
    "client.restart()"
   ]
  },
  {
   "cell_type": "code",
   "execution_count": null,
   "metadata": {},
   "outputs": [],
   "source": [
    "client.close()"
   ]
  },
  {
   "cell_type": "markdown",
   "metadata": {},
   "source": [
    "# Fit, evaluate, Criticise - All datasets, Dask distributed"
   ]
  },
  {
   "cell_type": "markdown",
   "metadata": {},
   "source": [
    "## TESTING"
   ]
  },
  {
   "cell_type": "code",
   "execution_count": null,
   "metadata": {},
   "outputs": [],
   "source": []
  },
  {
   "cell_type": "code",
   "execution_count": null,
   "metadata": {},
   "outputs": [],
   "source": []
  },
  {
   "cell_type": "code",
   "execution_count": null,
   "metadata": {},
   "outputs": [],
   "source": [
    "cluster = SGECluster(queue=\"medium.q\",\n",
    "                     cores=1,\n",
    "                     processes=1,\n",
    "                           memory=\"64GB\",\n",
    "                           resourcce_spec=\"m_mem_free=64G\",\n",
    "                    python=\"/dls/science/groups/i04-1/conor_dev/ccp4/build/bin/cctbx.python\")"
   ]
  },
  {
   "cell_type": "code",
   "execution_count": null,
   "metadata": {},
   "outputs": [],
   "source": [
    "cluster.scale(3)"
   ]
  },
  {
   "cell_type": "code",
   "execution_count": null,
   "metadata": {},
   "outputs": [],
   "source": [
    "time.sleep(15)"
   ]
  },
  {
   "cell_type": "code",
   "execution_count": null,
   "metadata": {},
   "outputs": [],
   "source": [
    "cluster = LocalCluster(n_workers=2, threads_per_worker=1)"
   ]
  },
  {
   "cell_type": "code",
   "execution_count": null,
   "metadata": {},
   "outputs": [],
   "source": [
    "client = Client(cluster)"
   ]
  },
  {
   "cell_type": "code",
   "execution_count": null,
   "metadata": {
    "scrolled": true
   },
   "outputs": [],
   "source": [
    "client"
   ]
  },
  {
   "cell_type": "code",
   "execution_count": null,
   "metadata": {},
   "outputs": [],
   "source": [
    "# Main Loop\n",
    "dataloader = DefaultPanDDADataloader(min_train_datasets=60, \n",
    "                                     max_test_datasets=60)\n"
   ]
  },
  {
   "cell_type": "code",
   "execution_count": null,
   "metadata": {
    "scrolled": true
   },
   "outputs": [],
   "source": [
    "ds = [(idx, d) for idx, d in dataloader(dataset)]"
   ]
  },
  {
   "cell_type": "code",
   "execution_count": null,
   "metadata": {},
   "outputs": [],
   "source": [
    "# Get base distributed model\n",
    "pandda_event_model_distributed = PanDDAEventModelDistributed(pandda_config.statistical_model,\n",
    "                                      pandda_config.clusterer,\n",
    "                                      pandda_config.event_finder,\n",
    "                                        dataset=dataset,\n",
    "                                      bdc_calculator=pandda_config.bdc_calculator,\n",
    "                                      statistics=[],\n",
    "                                      map_maker=pandda_config.map_maker, \n",
    "                                      event_table_maker=pandda_config.event_table_maker,\n",
    "                                      cpus=config[\"args\"][\"cpus\"],\n",
    "                                      tree=tree)"
   ]
  },
  {
   "cell_type": "code",
   "execution_count": null,
   "metadata": {},
   "outputs": [],
   "source": [
    "pandda_event_model_distributed.instantiate(reference,\n",
    "                                           tree)"
   ]
  },
  {
   "cell_type": "code",
   "execution_count": null,
   "metadata": {
    "scrolled": true
   },
   "outputs": [],
   "source": [
    "# Instantiate models\n",
    "models = [pandda_event_model_distributed.clone(dataset=d, \n",
    "                                   name=idx)\n",
    "         for idx, d\n",
    "         in ds]"
   ]
  },
  {
   "cell_type": "code",
   "execution_count": null,
   "metadata": {},
   "outputs": [],
   "source": [
    "# models"
   ]
  },
  {
   "cell_type": "code",
   "execution_count": null,
   "metadata": {},
   "outputs": [],
   "source": [
    "# # Load model moponents\n",
    "# models_loaded = client.map(load,\n",
    "#                     models,\n",
    "#                           pure=False)"
   ]
  },
  {
   "cell_type": "code",
   "execution_count": null,
   "metadata": {},
   "outputs": [],
   "source": [
    "# models_loaded"
   ]
  },
  {
   "cell_type": "code",
   "execution_count": null,
   "metadata": {},
   "outputs": [],
   "source": [
    "# # Load models over nodes\n",
    "# models_fit = client.map(fit, \n",
    "#                            models_loaded,\n",
    "#                        pure=False)\n"
   ]
  },
  {
   "cell_type": "code",
   "execution_count": null,
   "metadata": {},
   "outputs": [],
   "source": [
    "# models_fit"
   ]
  },
  {
   "cell_type": "code",
   "execution_count": null,
   "metadata": {},
   "outputs": [],
   "source": [
    "# # Ask models to process\n",
    "# models_evaluated = client.map(evaluate, \n",
    "#                               models_fit,\n",
    "#                              pure=False)\n"
   ]
  },
  {
   "cell_type": "code",
   "execution_count": null,
   "metadata": {},
   "outputs": [],
   "source": [
    "# models_evaluated"
   ]
  },
  {
   "cell_type": "code",
   "execution_count": null,
   "metadata": {},
   "outputs": [],
   "source": [
    "# # Ask models to criticise\n",
    "# event_tables = client.map(criticise, \n",
    "#                                models_evaluated, \n",
    "#                                pure=False)\n"
   ]
  },
  {
   "cell_type": "code",
   "execution_count": null,
   "metadata": {
    "scrolled": true
   },
   "outputs": [],
   "source": [
    "# event_tables"
   ]
  },
  {
   "cell_type": "code",
   "execution_count": null,
   "metadata": {},
   "outputs": [],
   "source": [
    "# event_tables_results =[e.result() for e in event_tables]"
   ]
  },
  {
   "cell_type": "code",
   "execution_count": null,
   "metadata": {},
   "outputs": [],
   "source": [
    "dsk = {}\n",
    "for i, model in enumerate(models):\n",
    "    dsk[\"load_{}\".format(i)] = (load, model)\n",
    "    dsk[\"fit_{}\".format(i)] = (fit, \"load_{}\".format(i))\n",
    "    dsk[\"evaluate_{}\".format(i)] = (evaluate, \"fit_{}\".format(i))\n",
    "    dsk[\"criticise_{}\".format(i)] = (criticise, \"evaluate_{}\".format(i))\n"
   ]
  },
  {
   "cell_type": "code",
   "execution_count": null,
   "metadata": {},
   "outputs": [],
   "source": [
    "dsk"
   ]
  },
  {
   "cell_type": "code",
   "execution_count": null,
   "metadata": {},
   "outputs": [],
   "source": [
    "dsk_combined, deps = dask.optimization.fuse(dsk)"
   ]
  },
  {
   "cell_type": "code",
   "execution_count": null,
   "metadata": {},
   "outputs": [],
   "source": [
    "client.get(dsk_combined, [\"criticise_{}\".format(i)\n",
    "                          for i, model\n",
    "                          in enumerate(models)])"
   ]
  },
  {
   "cell_type": "code",
   "execution_count": null,
   "metadata": {},
   "outputs": [],
   "source": [
    "client.close()"
   ]
  },
  {
   "cell_type": "code",
   "execution_count": null,
   "metadata": {},
   "outputs": [],
   "source": [
    "# Visualise tasks\n"
   ]
  },
  {
   "cell_type": "code",
   "execution_count": null,
   "metadata": {},
   "outputs": [],
   "source": [
    "# Ask models for events\n",
    "event_tables = event_tables.results()"
   ]
  },
  {
   "cell_type": "code",
   "execution_count": null,
   "metadata": {},
   "outputs": [],
   "source": []
  },
  {
   "cell_type": "code",
   "execution_count": null,
   "metadata": {},
   "outputs": [],
   "source": [
    "with ProcessModelSeriel() as P:            \n",
    "\n",
    "    for dataset in dataloader(dataset):\n",
    "\n",
    "        P(pandda_event_model(dataset))\n",
    "        # call with self as model: model.fit(); model.evaluate(); model.criticise()\n",
    "            # Seriel: run immediately\n",
    "            # Qsub: pick model\n",
    "\n",
    "    # exit: \n",
    "        # Seriel: just go on\n",
    "        # qsub: wait for the jobs to complete"
   ]
  },
  {
   "cell_type": "code",
   "execution_count": null,
   "metadata": {
    "scrolled": true
   },
   "outputs": [],
   "source": [
    "for dataset in dataloader(dataset):\n",
    "    \n",
    "    with pandda_event_model(dataset) as model:\n",
    "\n",
    "        # Fit model\n",
    "        print(\"Fitting model\")\n",
    "        model.fit()  # Fit the statistical model\n",
    "\n",
    "        # Evaluate model\n",
    "        model.evaluate_parallel()  # Evaluate the fitted model on maps, fidning events\n",
    "\n",
    "        # Criticise Model\n",
    "        model.criticise() # Stores statistics from model fitting and evaluation\n"
   ]
  },
  {
   "cell_type": "markdown",
   "metadata": {},
   "source": [
    "# Criticise Run"
   ]
  },
  {
   "cell_type": "markdown",
   "metadata": {},
   "source": [
    "## TESTING"
   ]
  },
  {
   "cell_type": "code",
   "execution_count": null,
   "metadata": {},
   "outputs": [],
   "source": [
    "# Criticise Model\n",
    "pandda_statistics = PanDDARunStatistics(dataset, model)  # Generates statistics from dataset and model\n",
    "PanDDARunGraphs(pandda_statistics)  # Produces a set of graphs of statistics\n",
    "pandda_html = PanDDARunHTML(pandda_statistics)  # Produces a HTML from Statistics\n",
    "PanDDARunLog()  # Produces a log of data processing from dataset, model, graphs and HTML\n"
   ]
  },
  {
   "cell_type": "code",
   "execution_count": null,
   "metadata": {},
   "outputs": [],
   "source": []
  },
  {
   "cell_type": "code",
   "execution_count": null,
   "metadata": {},
   "outputs": [],
   "source": []
  },
  {
   "cell_type": "code",
   "execution_count": null,
   "metadata": {},
   "outputs": [],
   "source": [
    "with processor as P:            \n",
    "\n",
    "    for dataset in dataloader(dataset):\n",
    "\n",
    "        P(pandda_event_model(dataset))\n",
    "        # call with self as model: model.fit(); model.evaluate(); model.criticise()\n",
    "            # Seriel: run immediately\n",
    "            # Qsub: pick model\n",
    "\n",
    "    # exit: \n",
    "        # Seriel: just go on\n",
    "        # qsub: wait for the jobs to complete\n",
    "        "
   ]
  },
  {
   "cell_type": "code",
   "execution_count": null,
   "metadata": {},
   "outputs": [],
   "source": []
  },
  {
   "cell_type": "code",
   "execution_count": null,
   "metadata": {},
   "outputs": [],
   "source": []
  },
  {
   "cell_type": "code",
   "execution_count": null,
   "metadata": {},
   "outputs": [],
   "source": []
  },
  {
   "cell_type": "code",
   "execution_count": null,
   "metadata": {},
   "outputs": [],
   "source": [
    "\n",
    "        "
   ]
  },
  {
   "cell_type": "code",
   "execution_count": null,
   "metadata": {},
   "outputs": [],
   "source": []
  },
  {
   "cell_type": "code",
   "execution_count": null,
   "metadata": {},
   "outputs": [],
   "source": []
  },
  {
   "cell_type": "code",
   "execution_count": null,
   "metadata": {},
   "outputs": [],
   "source": []
  },
  {
   "cell_type": "code",
   "execution_count": null,
   "metadata": {},
   "outputs": [],
   "source": []
  },
  {
   "cell_type": "code",
   "execution_count": null,
   "metadata": {},
   "outputs": [],
   "source": []
  },
  {
   "cell_type": "code",
   "execution_count": null,
   "metadata": {},
   "outputs": [],
   "source": []
  },
  {
   "cell_type": "code",
   "execution_count": null,
   "metadata": {},
   "outputs": [],
   "source": []
  },
  {
   "cell_type": "code",
   "execution_count": null,
   "metadata": {},
   "outputs": [],
   "source": []
  },
  {
   "cell_type": "code",
   "execution_count": null,
   "metadata": {},
   "outputs": [],
   "source": []
  },
  {
   "cell_type": "code",
   "execution_count": null,
   "metadata": {},
   "outputs": [],
   "source": [
    "class PanDDARunStatistics:\n",
    "    \n",
    "    def __init__(dataset, model):\n",
    "        \n",
    "        self.statistics = [...]\n",
    "        \n",
    "        for statistic in self.statistic:\n",
    "            try:\n",
    "                statistic.calculate()\n",
    "                self.trace[statistic.name] = statistic.log()\n",
    "\n",
    "            except Exeption as e:\n",
    "                self.trace[statistic.name] = \"{}\".format(e)\n",
    "        "
   ]
  },
  {
   "cell_type": "code",
   "execution_count": null,
   "metadata": {},
   "outputs": [],
   "source": []
  },
  {
   "cell_type": "code",
   "execution_count": null,
   "metadata": {},
   "outputs": [],
   "source": []
  },
  {
   "cell_type": "code",
   "execution_count": null,
   "metadata": {},
   "outputs": [],
   "source": [
    "class OutputNativeMaps:\n",
    "    \n",
    "    def calculate(samples):\n",
    "        \n",
    "        \n",
    "        \n",
    "    def log():\n",
    "        \n",
    "    "
   ]
  },
  {
   "cell_type": "code",
   "execution_count": null,
   "metadata": {},
   "outputs": [],
   "source": [
    "\n",
    "        "
   ]
  },
  {
   "cell_type": "code",
   "execution_count": null,
   "metadata": {},
   "outputs": [],
   "source": []
  },
  {
   "cell_type": "code",
   "execution_count": null,
   "metadata": {},
   "outputs": [],
   "source": [
    "\n",
    "        \n",
    "        \n",
    "        "
   ]
  },
  {
   "cell_type": "code",
   "execution_count": null,
   "metadata": {},
   "outputs": [],
   "source": []
  },
  {
   "cell_type": "code",
   "execution_count": null,
   "metadata": {},
   "outputs": [],
   "source": []
  },
  {
   "cell_type": "code",
   "execution_count": null,
   "metadata": {},
   "outputs": [],
   "source": []
  },
  {
   "cell_type": "code",
   "execution_count": null,
   "metadata": {},
   "outputs": [],
   "source": []
  },
  {
   "cell_type": "code",
   "execution_count": null,
   "metadata": {},
   "outputs": [],
   "source": []
  }
 ],
 "metadata": {
  "kernelspec": {
   "display_name": "Python (cctbx)",
   "language": "python",
   "name": "cctbx"
  },
  "language_info": {
   "codemirror_mode": {
    "name": "ipython",
    "version": 2
   },
   "file_extension": ".py",
   "mimetype": "text/x-python",
   "name": "python",
   "nbconvert_exporter": "python",
   "pygments_lexer": "ipython2",
   "version": "2.7.15"
  }
 },
 "nbformat": 4,
 "nbformat_minor": 2
}
